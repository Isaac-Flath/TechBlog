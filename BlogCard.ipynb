{
 "cells": [
  {
   "cell_type": "code",
   "execution_count": 1,
   "id": "6b6c7176",
   "metadata": {},
   "outputs": [],
   "source": [
    "from fasthtml.common import *\n",
    "from execnb.nbio import read_nb\n",
    "from nb2fasthtml.core import get_frontmatter_raw\n",
    "from fastcore.all import AttrDict\n",
    "from fh_frankenui.core import *"
   ]
  },
  {
   "cell_type": "code",
   "execution_count": 2,
   "id": "c4b4f695",
   "metadata": {},
   "outputs": [
    {
     "data": {
      "text/html": [
       "<!--\n",
       "<script src=\"https://cdn.tailwindcss.com\"></script>\n",
       "<script src=\"https://cdn.jsdelivr.net/npm/uikit@3.21.6/dist/js/uikit.min.js\"></script>\n",
       "<script src=\"https://cdn.jsdelivr.net/npm/uikit@3.21.6/dist/js/uikit-icons.min.js\"></script>\n",
       "<script type=\"module\" src=\"https://unpkg.com/franken-wc@0.0.6/dist/js/wc.iife.js\"></script>\n",
       "<link rel=\"stylesheet\" href=\"https://unpkg.com/franken-wc@0.0.6/dist/css/blue.min.css\">\n",
       "//-->\n"
      ],
      "text/plain": [
       "<IPython.core.display.HTML object>"
      ]
     },
     "metadata": {},
     "output_type": "display_data"
    }
   ],
   "source": [
    "%%html\n",
    "<!--\n",
    "<script src=\"https://cdn.tailwindcss.com\"></script>\n",
    "<script src=\"https://cdn.jsdelivr.net/npm/uikit@3.21.6/dist/js/uikit.min.js\"></script>\n",
    "<script src=\"https://cdn.jsdelivr.net/npm/uikit@3.21.6/dist/js/uikit-icons.min.js\"></script>\n",
    "<script type=\"module\" src=\"https://unpkg.com/franken-wc@0.0.6/dist/js/wc.iife.js\"></script>\n",
    "<link rel=\"stylesheet\" href=\"https://unpkg.com/franken-wc@0.0.6/dist/css/blue.min.css\">\n",
    "//-->"
   ]
  },
  {
   "cell_type": "code",
   "execution_count": 3,
   "id": "7189ecc0",
   "metadata": {},
   "outputs": [
    {
     "data": {
      "text/plain": [
       "['posts/Statistics/BasicTesting.ipynb',\n",
       " 'posts/boots/FasthtmlTutorial.ipynb',\n",
       " 'posts/APL/BasicStats.ipynb']"
      ]
     },
     "execution_count": 3,
     "metadata": {},
     "output_type": "execute_result"
    }
   ],
   "source": [
    "def list_ipynb_files(directory):\n",
    "    return [os.path.join(root, f) for root, _, files in os.walk(directory) \n",
    "            for f in files if f.endswith('.ipynb') and not f.startswith('.') \n",
    "            and '.ipynb_checkpoints' not in root]\n",
    "\n",
    "blog_posts = list_ipynb_files('posts')\n",
    "blog_posts[:3]"
   ]
  },
  {
   "cell_type": "code",
   "execution_count": 4,
   "id": "1c4c81d6",
   "metadata": {},
   "outputs": [],
   "source": [
    "def get_fm(post_path):\n",
    "    frontmatter = get_frontmatter_raw(read_nb(post_path).cells[0])\n",
    "    frontmatter['image'] = str(Path(post_path).parent / frontmatter['image'])\n",
    "    return AttrDict(frontmatter)"
   ]
  },
  {
   "cell_type": "code",
   "execution_count": 5,
   "id": "b695f4bb",
   "metadata": {},
   "outputs": [
    {
     "data": {
      "text/markdown": [
       "```json\n",
       "{ 'author': 'Isaac Flath',\n",
       "  'categories': ['FastHTML', 'htmx', 'boots'],\n",
       "  'date': '2024-07-19',\n",
       "  'description': 'Step by step tutorial to rendering markdown in FastHTML '\n",
       "                 'using zero-md',\n",
       "  'image': 'posts/boots/../_TopicImages/FastHtml.jpg',\n",
       "  'title': 'Creating Custom FastHTML Tags for Markdown Rendering'}\n",
       "```"
      ],
      "text/plain": [
       "{'title': 'Creating Custom FastHTML Tags for Markdown Rendering',\n",
       " 'author': 'Isaac Flath',\n",
       " 'date': '2024-07-19',\n",
       " 'description': 'Step by step tutorial to rendering markdown in FastHTML using zero-md',\n",
       " 'categories': ['FastHTML', 'htmx', 'boots'],\n",
       " 'image': 'posts/boots/../_TopicImages/FastHtml.jpg'}"
      ]
     },
     "execution_count": 5,
     "metadata": {},
     "output_type": "execute_result"
    }
   ],
   "source": [
    "fm = get_fm(blog_posts[1])\n",
    "fm"
   ]
  },
  {
   "cell_type": "code",
   "execution_count": 6,
   "id": "10076d3e",
   "metadata": {},
   "outputs": [
    {
     "data": {
      "text/html": [
       "Let&#x27;s Build a Card"
      ],
      "text/plain": [
       "<IPython.core.display.HTML object>"
      ]
     },
     "execution_count": 6,
     "metadata": {},
     "output_type": "execute_result"
    }
   ],
   "source": [
    "show(\"Let's Build a Card\")"
   ]
  },
  {
   "cell_type": "code",
   "execution_count": null,
   "id": "870270b9",
   "metadata": {},
   "outputs": [],
   "source": []
  },
  {
   "cell_type": "code",
   "execution_count": null,
   "id": "137440db",
   "metadata": {},
   "outputs": [],
   "source": []
  }
 ],
 "metadata": {
  "kernelspec": {
   "display_name": "Python 3 (ipykernel)",
   "language": "python",
   "name": "python3"
  },
  "language_info": {
   "codemirror_mode": {
    "name": "ipython",
    "version": 3
   },
   "file_extension": ".py",
   "mimetype": "text/x-python",
   "name": "python",
   "nbconvert_exporter": "python",
   "pygments_lexer": "ipython3",
   "version": "3.12.4"
  }
 },
 "nbformat": 4,
 "nbformat_minor": 5
}
