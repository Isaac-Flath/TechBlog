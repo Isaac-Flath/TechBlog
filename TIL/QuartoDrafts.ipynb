{
 "cells": [
  {
   "cell_type": "raw",
   "id": "89d63deb-c0c1-4d4e-b1ca-99f7dc6bc952",
   "metadata": {},
   "source": [
    "---\n",
    "title: \"Finding All Quarto Drafts\"\n",
    "author: \"Isaac Flath\"\n",
    "date: \"2023-01-21\"\n",
    "description: \"Use bash to find all your draft quarto files\"\n",
    "categories: [Quarto, Bash]\n",
    "---"
   ]
  },
  {
   "attachments": {},
   "cell_type": "markdown",
   "id": "45e983c8-66b8-4d8a-9f87-251e3209a88f",
   "metadata": {},
   "source": [
    "# Today I Learned\n",
    "\n",
    "I needed find all the draft blog posts I had.  My draft blog posts were mixed in with real blog posts, and after not looking at the blog for a while I did not remember what posts I had started.\n",
    "\n",
    "# How to\n",
    "\n",
    "`find . -type f -print0 | xargs -0 grep -l \"draft: true\"`\n",
    "\n"
   ]
  }
 ],
 "metadata": {
  "kernelspec": {
   "display_name": "Python 3 (ipykernel)",
   "language": "python",
   "name": "python3"
  }
 },
 "nbformat": 4,
 "nbformat_minor": 5
}
