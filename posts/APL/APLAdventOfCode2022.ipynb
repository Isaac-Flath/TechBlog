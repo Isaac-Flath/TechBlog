{
 "cells": [
  {
   "cell_type": "raw",
   "id": "577f897a-6ead-485c-a600-35bc6fedb8e9",
   "metadata": {},
   "source": [
    "---\n",
    "title: \"Advent of Code APL 2022\"\n",
    "author: \"Isaac Flath\"\n",
    "date: \"2022-12-02\"\n",
    "description: \"Working on Advent of Code 2022 in APL\"\n",
    "categories: [APL]\n",
    "image: \"../_TopicImages/APL.jpg\"\n",
    "---"
   ]
  },
  {
   "cell_type": "code",
   "execution_count": null,
   "id": "60960780-54e0-4ce3-adb9-1e34f5cc34bf",
   "metadata": {},
   "outputs": [
    {
     "data": {
      "text/html": [
       "<pre class=\"language-APL\">Was ON\n",
       "</pre>"
      ]
     },
     "execution_count": null,
     "metadata": {},
     "output_type": "execute_result"
    },
    {
     "data": {
      "text/html": [
       "<pre class=\"language-APL\">Was OFF\n",
       "</pre>"
      ]
     },
     "execution_count": null,
     "metadata": {},
     "output_type": "execute_result"
    }
   ],
   "source": [
    "]box on\n",
    "]rows on"
   ]
  },
  {
   "cell_type": "markdown",
   "id": "581de267-9032-49e3-9c04-2a653aaa66e5",
   "metadata": {},
   "source": [
    "In this blog post I will supply my solutions to [Advent of Code 2022](https://adventofcode.com/2022) as I work through them in APL.  I don't expect to keep up with doing them every day, but will work on them as I have time and keep adding to this post."
   ]
  },
  {
   "cell_type": "markdown",
   "id": "eeefcebb-db3a-446d-9aac-8d93ade60468",
   "metadata": {},
   "source": [
    "# Day 1"
   ]
  },
  {
   "cell_type": "markdown",
   "id": "ca888432-05fe-484a-b7b8-e719b6933d02",
   "metadata": {},
   "source": [
    "## Solution"
   ]
  },
  {
   "cell_type": "code",
   "execution_count": null,
   "id": "4725af9f-630d-489e-8e07-3a26834534ab",
   "metadata": {},
   "outputs": [],
   "source": [
    "f ← ,⎕CSV 'day1_input.txt' ⍬4\n",
    "sums ← {+/¨ (≢¨⍵) ⊆⊢ ⍵} f\n",
    "part1 ← ⌈/ sums\n",
    "part2 ← +/ 3↑sums[⍒sums]"
   ]
  },
  {
   "cell_type": "code",
   "execution_count": null,
   "id": "6e877c5f-5ded-4870-8a78-f7ed07cb500e",
   "metadata": {},
   "outputs": [
    {
     "data": {
      "text/html": [
       "<pre class=\"language-APL\">┌──────────────────┬─────┐\n",
       "│Part 1 Solution : │71780│\n",
       "└──────────────────┴─────┘\n",
       "</pre>"
      ]
     },
     "execution_count": null,
     "metadata": {},
     "output_type": "execute_result"
    },
    {
     "data": {
      "text/html": [
       "<pre class=\"language-APL\">┌──────────────────┬──────┐\n",
       "│Part 2 Solution : │212489│\n",
       "└──────────────────┴──────┘\n",
       "</pre>"
      ]
     },
     "execution_count": null,
     "metadata": {},
     "output_type": "execute_result"
    }
   ],
   "source": [
    "'Part 1 Solution : ' part1\n",
    "'Part 2 Solution : ' part2"
   ]
  },
  {
   "cell_type": "markdown",
   "id": "1b6ab5af-8a7e-48cf-be4d-7ecff3db5cac",
   "metadata": {},
   "source": [
    "## Explanation\n",
    "\n",
    "**Shared Code:**\n",
    "\n",
    "+ `(≢¨f)` : Create a mask of items we can use to separate inventories of each elf\n",
    "+ `(≢¨⍵) ⊆⊢ ⍵` : Use mask to break data into sub-arrays for each elf\n",
    "+ `+/¨ (≢¨⍵) ⊆⊢ ⍵` : Sum inventory of each elf\n",
    "\n",
    "**Part 1:**\n",
    "\n",
    "+ `⌈/` : Get maximum value from array created above\n",
    "\n",
    "**Part 2:**\n",
    "\n",
    "+ `sums[⍒sums]` : Sort array in descending order\n",
    "+ `3↑sums[⍒sums]` : Get first (largest) 3 items in array\n",
    "+ `+/ 3↑sums[⍒sums]` : Sum the first (largest) 3 items in array"
   ]
  },
  {
   "cell_type": "markdown",
   "id": "a022f436-3a6f-4e23-881c-521bd5ddbb23",
   "metadata": {},
   "source": [
    "# Day 2"
   ]
  },
  {
   "cell_type": "markdown",
   "id": "6b27cede-ca5a-4bbc-9b88-f32341939e94",
   "metadata": {},
   "source": [
    "## Solution"
   ]
  },
  {
   "cell_type": "code",
   "execution_count": null,
   "id": "5e771a82-0630-49bd-b2e9-e087fb9eee7e",
   "metadata": {},
   "outputs": [],
   "source": [
    "f ← ⎕CSV 'day2_input.txt' ⍬4\n",
    "lookup ← {+/ S[C ⍳ ,⍵]}\n",
    "\n",
    "C S←↓⍉9 2⍴'A X' 4 'B X' 1 'C X' 7 'A Y' 8 'B Y' 5 'C Y' 2 'A Z' 3 'B Z' 9 'C Z' 6\n",
    "part1 ← lookup f\n",
    "\n",
    "C S←↓⍉9 2⍴'A X' 3 'A Y' 4 'A Z' 8 'B X' 1 'B Y' 5 'B Z' 9 'C X' 2 'C Y' 6 'C Z' 7\n",
    "part2 ← lookup f"
   ]
  },
  {
   "cell_type": "code",
   "execution_count": null,
   "id": "9e281222-8328-4442-b5f0-f8bb5ebc3eed",
   "metadata": {},
   "outputs": [
    {
     "data": {
      "text/html": [
       "<pre class=\"language-APL\">┌──────────────────┬─────┐\n",
       "│Part 1 Solution : │13446│\n",
       "└──────────────────┴─────┘\n",
       "</pre>"
      ]
     },
     "execution_count": null,
     "metadata": {},
     "output_type": "execute_result"
    },
    {
     "data": {
      "text/html": [
       "<pre class=\"language-APL\">┌──────────────────┬─────┐\n",
       "│Part 2 Solution : │13509│\n",
       "└──────────────────┴─────┘\n",
       "</pre>"
      ]
     },
     "execution_count": null,
     "metadata": {},
     "output_type": "execute_result"
    }
   ],
   "source": [
    "'Part 1 Solution : ' part1\n",
    "'Part 2 Solution : ' part2"
   ]
  },
  {
   "cell_type": "markdown",
   "id": "c417fdc9-9cba-4e83-a8c4-a4c7c6f0458b",
   "metadata": {},
   "source": [
    "## Explanation\n",
    "\n",
    "**Shared Code:**\n",
    "\n",
    "+ `C ⍳ ,f` : Look up each item in f and find its index location in C \n",
    "+ `S[C ⍳ ,⍵]` : Use indexes to get array of scores\n",
    "+ `{+/ S[C ⍳ ,⍵]}` : Sum array\n",
    "\n",
    "**Part 1:**\n",
    "\n",
    "+ Define mapping of each possibility to score\n",
    "+ Use function defined above\n",
    "\n",
    "**Part 2:**\n",
    "\n",
    "+ Define mapping of each possibility to score\n",
    "+ Use function defined above"
   ]
  },
  {
   "cell_type": "markdown",
   "id": "7e6edb8f-9e84-4aaf-98af-c5282af3a703",
   "metadata": {},
   "source": [
    "# Day 3"
   ]
  },
  {
   "cell_type": "markdown",
   "id": "22ed7246-1983-4081-9458-22aa9357c72c",
   "metadata": {},
   "source": [
    "## Solution"
   ]
  },
  {
   "cell_type": "code",
   "execution_count": null,
   "id": "eb6ee9e2-a971-4d6b-8998-8ac7d229bf0c",
   "metadata": {},
   "outputs": [],
   "source": [
    "f ← (⎕A,⍨⎕C ⎕A)∘⍳¨⊃⎕NGET'day3_input.txt'1\n",
    "\n",
    "part1 ← +/ 1↑¨ {(2÷⍨⍴¨⍵) (↑∩↓)¨ ⍵} f\n",
    "\n",
    "part2 ← +/1↑¨∩/{(3÷⍨≢⍵)3⍴⍵}f"
   ]
  },
  {
   "cell_type": "code",
   "execution_count": null,
   "id": "0257e0b5-7f27-4f55-a3c6-c7bf469af773",
   "metadata": {},
   "outputs": [
    {
     "data": {
      "text/html": [
       "<pre class=\"language-APL\">┌──────────────────┬──────┐\n",
       "│Part 1 Solution : │┌────┐│\n",
       "│                  ││7785││\n",
       "│                  │└────┘│\n",
       "└──────────────────┴──────┘\n",
       "</pre>"
      ]
     },
     "execution_count": null,
     "metadata": {},
     "output_type": "execute_result"
    },
    {
     "data": {
      "text/html": [
       "<pre class=\"language-APL\">┌──────────────────┬──────┐\n",
       "│Part 2 Solution : │┌────┐│\n",
       "│                  ││2633││\n",
       "│                  │└────┘│\n",
       "└──────────────────┴──────┘\n",
       "</pre>"
      ]
     },
     "execution_count": null,
     "metadata": {},
     "output_type": "execute_result"
    }
   ],
   "source": [
    "'Part 1 Solution : ' part1\n",
    "'Part 2 Solution : ' part2"
   ]
  },
  {
   "cell_type": "markdown",
   "id": "dd4eb93b-35a9-4b83-a771-e12192d4934c",
   "metadata": {},
   "source": [
    "## Explanation\n",
    "\n",
    "**Shared Code:**\n",
    "\n",
    "+ `⊃⎕NGET'day3_input.txt'1` : Load the data\n",
    "+ `(⎕A,⍨⎕C ⎕A)` : Get alphabet (lower and upper case)\n",
    "+ `∘⍳¨` : Index into each piece of data to find position in alphabet\n",
    "\n",
    "**Part1:**\n",
    "\n",
    "+ `⍴¨w` : Get length of each elf's inventory\n",
    "+ `(2÷⍨⍴¨w)` : Divide by 2 to get half-way point\n",
    "+ `{(2÷⍨⍴¨w) (↑∩↓)¨ ⍵}` : Function to the intersection of the first and last halves of each elf's inventory\n",
    "+ `1↑¨ {(2÷⍨⍴¨w) (↑∩↓)¨ ⍵} f` : de-dupe by keeping only 1st result for each elf\n",
    "+ `+/1↑¨∩/{(3÷⍨≢⍵)3⍴⍵}f` : Sum   \n",
    "\n",
    "**Part2:**\n",
    "\n",
    "+ `(3÷⍨≢⍵)` : Get number of groups of elves\n",
    "+ `{(3÷⍨≢⍵)3⍴⍵` : Reshape data to be a n_groups x 3 elves matrix\n",
    "+ `∩/{(3÷⍨≢⍵)3⍴⍵}f` : Get the intersection (items that all 3 elves have)\n",
    "+ `1↑¨∩/{(3÷⍨≢⍵)3⍴⍵}f` : de-dupe by keeping only 1st result for each elf\n",
    "+ `+/1↑¨∩/{(3÷⍨≢⍵)3⍴⍵}f` : Sum"
   ]
  },
  {
   "cell_type": "code",
   "execution_count": null,
   "id": "4416e519-9ab9-43f1-bda7-860dd1e164e7",
   "metadata": {},
   "outputs": [],
   "source": []
  }
 ],
 "metadata": {
  "kernelspec": {
   "display_name": "Dyalog APL",
   "language": "apl",
   "name": "dyalog-kernel"
  }
 },
 "nbformat": 4,
 "nbformat_minor": 5
}
