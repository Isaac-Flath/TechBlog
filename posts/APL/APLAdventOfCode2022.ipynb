{
 "cells": [
  {
   "cell_type": "raw",
   "id": "577f897a-6ead-485c-a600-35bc6fedb8e9",
   "metadata": {},
   "source": [
    "---\n",
    "title: \"Advent of Code APL 2022\"\n",
    "author: \"Isaac Flath\"\n",
    "date: \"2022-12-02\"\n",
    "description: \"Working on Advent of Code 2022 in APL\"\n",
    "categories: [APL]\n",
    "image: \"../_TopicImages/APL.jpg\"\n",
    "---"
   ]
  },
  {
   "cell_type": "markdown",
   "id": "eeefcebb-db3a-446d-9aac-8d93ade60468",
   "metadata": {},
   "source": [
    "# Day 1"
   ]
  },
  {
   "cell_type": "markdown",
   "id": "ca888432-05fe-484a-b7b8-e719b6933d02",
   "metadata": {},
   "source": [
    "## Solution"
   ]
  },
  {
   "cell_type": "code",
   "execution_count": null,
   "id": "4725af9f-630d-489e-8e07-3a26834534ab",
   "metadata": {},
   "outputs": [
    {
     "data": {
      "text/html": [
       "<pre class=\"language-APL\">71780\n",
       "</pre>"
      ]
     },
     "execution_count": null,
     "metadata": {},
     "output_type": "execute_result"
    },
    {
     "data": {
      "text/html": [
       "<pre class=\"language-APL\">212489\n",
       "</pre>"
      ]
     },
     "execution_count": null,
     "metadata": {},
     "output_type": "execute_result"
    }
   ],
   "source": [
    "f ← ,⎕CSV 'day1_input.txt' ⍬4\n",
    "sums ← {+/¨ (≢¨⍵) ⊆⊢ ⍵} f\n",
    "⎕←part1 ← ⌈/ sums\n",
    "⎕←part2 ← +/ 3↑sums[⍒sums]"
   ]
  },
  {
   "cell_type": "markdown",
   "id": "005426f8-80fe-42af-8f81-e0a8281a0a97",
   "metadata": {},
   "source": [
    "## Walk Through"
   ]
  },
  {
   "cell_type": "markdown",
   "id": "c10170c2-4727-49a0-8139-4db2c41f8eb2",
   "metadata": {},
   "source": [
    "First we need to read the file as a csv"
   ]
  },
  {
   "cell_type": "code",
   "execution_count": null,
   "id": "8d7dfa19-6c24-4b4e-bb24-9f440e8faffc",
   "metadata": {},
   "outputs": [],
   "source": [
    "f ← ⎕CSV 'day1_input.txt' ⍬4"
   ]
  },
  {
   "cell_type": "markdown",
   "id": "b529ffb5-53c8-4097-b702-ab31b2c4869f",
   "metadata": {},
   "source": [
    "When we look at the shape we have an dimension we don't need."
   ]
  },
  {
   "cell_type": "code",
   "execution_count": null,
   "id": "f9683712-b11e-4fe0-b653-c324d9113c2e",
   "metadata": {},
   "outputs": [
    {
     "data": {
      "text/html": [
       "<pre class=\"language-APL\">2250 1\n",
       "</pre>"
      ]
     },
     "execution_count": null,
     "metadata": {},
     "output_type": "execute_result"
    }
   ],
   "source": [
    "⍴f"
   ]
  },
  {
   "cell_type": "markdown",
   "id": "579c6270-d9dd-49a2-95cb-34beff69d29a",
   "metadata": {},
   "source": [
    "We can remove that by using ravel one what we load in, so we modify our file reading line to use ravel (`,`).  This gives us a vector instead of a matrix."
   ]
  },
  {
   "cell_type": "code",
   "execution_count": null,
   "id": "c2792150-6b4f-4c70-a002-baa6d7ca70a9",
   "metadata": {},
   "outputs": [
    {
     "data": {
      "text/html": [
       "<pre class=\"language-APL\">2250\n",
       "</pre>"
      ]
     },
     "execution_count": null,
     "metadata": {},
     "output_type": "execute_result"
    }
   ],
   "source": [
    "f ← ,⎕CSV 'day1_input.txt' ⍬4\n",
    "⍴f"
   ]
  },
  {
   "cell_type": "markdown",
   "id": "f91853bd-495c-4c64-a319-f6379b845b14",
   "metadata": {},
   "source": [
    "Next we need to get the sum for each elf.  Instead of working with the full array let's just take a sample so it's easier to look at."
   ]
  },
  {
   "cell_type": "code",
   "execution_count": null,
   "id": "792d12a8-e5c9-48db-96df-bd6ba848dd4a",
   "metadata": {},
   "outputs": [
    {
     "data": {
      "text/html": [
       "<pre class=\"language-APL\">┌────┬────┬─────┬─────┬─────┬────┬────┬┬─────┬┬────┬────┐\n",
       "│7769│6798│11685│10826│11807│5786│7932││54883││7069│5792│\n",
       "└────┴────┴─────┴─────┴─────┴────┴────┴┴─────┴┴────┴────┘\n",
       "</pre>"
      ]
     },
     "execution_count": null,
     "metadata": {},
     "output_type": "execute_result"
    }
   ],
   "source": [
    "⎕ ← f ← 12↑ f"
   ]
  },
  {
   "cell_type": "markdown",
   "id": "8f0a5621-9121-4f78-b963-6bc1dde4afc4",
   "metadata": {},
   "source": [
    "Let's start by splitting array into groups where each group is an elf.  We do this based on where the null array elements are.  We can create a mask that will show us the groups by checking the depth of each element.  The depth of any integer will be 1, and the depth of a null value is 0 so this works perfect."
   ]
  },
  {
   "cell_type": "code",
   "execution_count": null,
   "id": "69def5b1-60a1-4e30-8644-56b4b78cd866",
   "metadata": {},
   "outputs": [
    {
     "data": {
      "text/html": [
       "<pre class=\"language-APL\">1 1 1 1 1 1 1 0 1 0 1 1\n",
       "</pre>"
      ]
     },
     "execution_count": null,
     "metadata": {},
     "output_type": "execute_result"
    }
   ],
   "source": [
    "⎕ ← mask ← ≢¨f"
   ]
  },
  {
   "cell_type": "markdown",
   "id": "8f190d85-6610-4d79-a537-256267fac003",
   "metadata": {},
   "source": [
    "We can then use that mask to break up our array"
   ]
  },
  {
   "cell_type": "code",
   "execution_count": null,
   "id": "01c17621-1a8b-4b06-8d94-0bd17e69e515",
   "metadata": {},
   "outputs": [
    {
     "data": {
      "text/html": [
       "<pre class=\"language-APL\">┌─────────────────────────────────────┬─────┬─────────┐\n",
       "│7769 6798 11685 10826 11807 5786 7932│54883│7069 5792│\n",
       "└─────────────────────────────────────┴─────┴─────────┘\n",
       "</pre>"
      ]
     },
     "execution_count": null,
     "metadata": {},
     "output_type": "execute_result"
    }
   ],
   "source": [
    "⎕ ← groups ← mask ⊆⊢ f"
   ]
  },
  {
   "cell_type": "markdown",
   "id": "b88645c3-3032-451b-be68-8aa076902da9",
   "metadata": {},
   "source": [
    "What you will see now is we no longer have a single vector with each element.  We have a vector of length 3 (1 vector per elf).  Each elf's vector's length is the number of items that elf has in it's inventory.  Just what we want."
   ]
  },
  {
   "cell_type": "code",
   "execution_count": null,
   "id": "f7c2445f-3da3-43a9-a2a6-775822a46d85",
   "metadata": {},
   "outputs": [
    {
     "data": {
      "text/html": [
       "<pre class=\"language-APL\">3\n",
       "</pre>"
      ]
     },
     "execution_count": null,
     "metadata": {},
     "output_type": "execute_result"
    },
    {
     "data": {
      "text/html": [
       "<pre class=\"language-APL\">┌─┬─┬─┐\n",
       "│7│1│2│\n",
       "└─┴─┴─┘\n",
       "</pre>"
      ]
     },
     "execution_count": null,
     "metadata": {},
     "output_type": "execute_result"
    }
   ],
   "source": [
    "⍴ groups\n",
    "⍴¨ groups"
   ]
  },
  {
   "cell_type": "markdown",
   "id": "4a82da6d-689f-4ee7-ae65-d19d6817a452",
   "metadata": {},
   "source": [
    "Now, we need to get the sum of the numbers in each elf's inventory."
   ]
  },
  {
   "cell_type": "code",
   "execution_count": null,
   "id": "9a664012-8047-453c-8caa-140e48c985ed",
   "metadata": {},
   "outputs": [
    {
     "data": {
      "text/html": [
       "<pre class=\"language-APL\">62603 54883 12861\n",
       "</pre>"
      ]
     },
     "execution_count": null,
     "metadata": {},
     "output_type": "execute_result"
    }
   ],
   "source": [
    "⎕ ← totals_per_elf ← +/¨ groups"
   ]
  },
  {
   "cell_type": "markdown",
   "id": "33a64336-9383-41ff-8931-7ef92c079086",
   "metadata": {},
   "source": [
    "### Part 1\n",
    "\n",
    "For part one we get the max from that array"
   ]
  },
  {
   "cell_type": "code",
   "execution_count": null,
   "id": "ebc67663-643d-4f46-a1c1-9942da567c3c",
   "metadata": {},
   "outputs": [
    {
     "data": {
      "text/html": [
       "<pre class=\"language-APL\">62603\n",
       "</pre>"
      ]
     },
     "execution_count": null,
     "metadata": {},
     "output_type": "execute_result"
    }
   ],
   "source": [
    "⎕ ← part1 ← ⌈/ totals_per_elf"
   ]
  },
  {
   "cell_type": "markdown",
   "id": "e6c1a3b3-5160-412a-b09f-a60f0b992a7b",
   "metadata": {},
   "source": [
    "### Part 2\n",
    "\n",
    "For part 2 we get the sum of the largest 3.  To do this we need to sort the array (`totals_per_elf[⍒totals_per_elf]`), take the top 3 elements from that sorted array (`3↑`), then sum them up (`+/`)."
   ]
  },
  {
   "cell_type": "code",
   "execution_count": null,
   "id": "57eb6982-8fa5-41c8-9863-82906b4f7dc0",
   "metadata": {},
   "outputs": [
    {
     "data": {
      "text/html": [
       "<pre class=\"language-APL\">130347\n",
       "</pre>"
      ]
     },
     "execution_count": null,
     "metadata": {},
     "output_type": "execute_result"
    }
   ],
   "source": [
    "⎕ ← part2 ← +/ 3↑totals_per_elf[⍒totals_per_elf]"
   ]
  },
  {
   "cell_type": "code",
   "execution_count": null,
   "id": "05377f6a-5262-4d17-8a8b-014c943cdcf9",
   "metadata": {},
   "outputs": [],
   "source": []
  }
 ],
 "metadata": {
  "kernelspec": {
   "display_name": "Dyalog APL",
   "language": "apl",
   "name": "dyalog-kernel"
  }
 },
 "nbformat": 4,
 "nbformat_minor": 5
}
