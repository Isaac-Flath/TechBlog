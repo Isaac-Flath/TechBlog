{
 "cells": [
  {
   "cell_type": "raw",
   "id": "577f897a-6ead-485c-a600-35bc6fedb8e9",
   "metadata": {},
   "source": [
    "---\n",
    "title: \"Advent of Code Python 2022\"\n",
    "author: \"Isaac Flath\"\n",
    "date: \"2022-12-02\"\n",
    "description: \"Working on Advent of Code 2022 in APL\"\n",
    "categories: [APL, Advent of Code]\n",
    "image: \"../_TopicImages/APL.jpg\"\n",
    "draft: true\n",
    "---"
   ]
  },
  {
   "cell_type": "markdown",
   "id": "581de267-9032-49e3-9c04-2a653aaa66e5",
   "metadata": {},
   "source": [
    "In this blog post I will supply my solutions to [Advent of Code 2022](https://adventofcode.com/2022) as I work through them in Python.  I don't expect to keep up with doing them every day, but will work on them as I have time and keep adding to this post."
   ]
  },
  {
   "cell_type": "code",
   "execution_count": null,
   "id": "071dcefb-fd58-4367-adbf-bcdbcb6f73e9",
   "metadata": {},
   "outputs": [],
   "source": [
    "import pandas as pd\n",
    "import numpy as np\n",
    "import string\n",
    "from fastcore.all import *\n"
   ]
  },
  {
   "cell_type": "markdown",
   "id": "eeefcebb-db3a-446d-9aac-8d93ade60468",
   "metadata": {},
   "source": [
    "# Day 1"
   ]
  },
  {
   "cell_type": "markdown",
   "id": "ca888432-05fe-484a-b7b8-e719b6933d02",
   "metadata": {},
   "source": [
    "## Solution"
   ]
  },
  {
   "cell_type": "code",
   "execution_count": null,
   "id": "8261b2e1-b747-4386-8425-4eaf9de5a1b4",
   "metadata": {},
   "outputs": [
    {
     "name": "stdout",
     "output_type": "stream",
     "text": [
      "Part 1 : 71780\n",
      "Part 2 : 135216\n"
     ]
    }
   ],
   "source": [
    "data = pd.read_csv('day1_input.txt',skip_blank_lines=False).values\n",
    "splits = np.isnan(data).squeeze().nonzero()[0]\n",
    "sums = np.array([np.nansum(o) for o in np.split(data,splits)])\n",
    "\n",
    "print(f\"Part 1 : {sums.max():.0f}\")\n",
    "print(f\"Part 2 : {sums[-3:].sum():.0f}\")"
   ]
  },
  {
   "cell_type": "markdown",
   "id": "a022f436-3a6f-4e23-881c-521bd5ddbb23",
   "metadata": {},
   "source": [
    "# Day 2"
   ]
  },
  {
   "cell_type": "code",
   "execution_count": null,
   "id": "b9117542-4246-496b-8f4a-5af50f8926b7",
   "metadata": {},
   "outputs": [
    {
     "name": "stdout",
     "output_type": "stream",
     "text": [
      "Part 1: 13446\n",
      "Part 2: 13509\n"
     ]
    }
   ],
   "source": [
    "data = pd.read_csv('day2_input.txt',header=None,names=['play'])\n",
    "p1 = {k:v for k,v in zip(['A X','B X','C X','A Y','B Y','C Y','A Z','B Z','C Z'],[4,1,7,8,5,2,3,9,6])}\n",
    "p2 = {k:v for k,v in zip(['A X','A Y','A Z','B X','B Y','B Z','C X','C Y','C Z'],[3,4,8,1,5,9,2,6,7])}\n",
    "\n",
    "print(f\"Part 1: {data.replace(p1).sum()[0]}\")\n",
    "print(f\"Part 2: {data.replace(p2).sum()[0]}\")"
   ]
  },
  {
   "cell_type": "markdown",
   "id": "7e6edb8f-9e84-4aaf-98af-c5282af3a703",
   "metadata": {},
   "source": [
    "# Day 3"
   ]
  },
  {
   "cell_type": "code",
   "execution_count": null,
   "id": "c3b4c39c-3b89-4ae0-ba70-75612ac7f8a4",
   "metadata": {},
   "outputs": [
    {
     "name": "stdout",
     "output_type": "stream",
     "text": [
      "Part 1: 7785\n",
      "Part 2: 2633\n"
     ]
    }
   ],
   "source": [
    "chars = string.ascii_lowercase + string.ascii_uppercase\n",
    "data = pd.read_csv('day3_input.txt',header=None,names=['play'])\n",
    "\n",
    "def split_column(idx,st):\n",
    "    return map(set,[data['play'][idx][:int(st)],\n",
    "               data['play'][idx][int(st):]])\n",
    "def calc_score(row):\n",
    "    _tmp = set.intersection(*row)\n",
    "    return chars.find(''.join(_tmp))+1\n",
    "\n",
    "data['c1'],data['c2'] = zip(*[split_column(i,o) for i,o in enumerate(data.play.str.len()/2)])\n",
    "data['u'] = [calc_score(row[['c1','c2']]) for i,row in data.iterrows()]\n",
    "print(f\"Part 1: {data.u.sum()}\")\n",
    "\n",
    "data['ps'] = [set(o) for o in data.play]\n",
    "p2 = np.array([calc_score([data.ps[i],data.ps[i+1],data.ps[i+2]]) for i in range(0,len(data.play),3)]).sum()\n",
    "\n",
    "print(f\"Part 2: {p2}\")"
   ]
  },
  {
   "cell_type": "markdown",
   "id": "dd6ac8c5-a13b-4bd8-947a-2a0e9234b660",
   "metadata": {},
   "source": [
    "# Day 4"
   ]
  },
  {
   "cell_type": "code",
   "execution_count": null,
   "id": "e7fb3da1-85fe-431a-963a-cf6dd2d773b4",
   "metadata": {},
   "outputs": [
    {
     "name": "stdout",
     "output_type": "stream",
     "text": [
      "Part 1: 599\n",
      "Part 2: 928\n"
     ]
    }
   ],
   "source": [
    "data = pd.read_csv('day4_input.txt',header=None,names=['play1','play2'],index_col=False)\n",
    "data = pd.concat([data.play1.str.split('-',expand=True),data.play2.str.split('-',expand=True)],axis=1).values.astype(int)\n",
    "\n",
    "p1 = (((data[:,0]<=data[:,2])&(data[:,1]>=data[:,3])) | ((data[:,2]<=data[:,0])&(data[:,3]>=data[:,1]))).sum()\n",
    "p2 = (((data[:,0]<=data[:,2])&(data[:,1]>=data[:,2])) | ((data[:,2]<=data[:,0])&(data[:,3]>=data[:,0]))).sum()\n",
    "print(f\"Part 1: {p1}\")\n",
    "print(f\"Part 2: {p2}\")"
   ]
  },
  {
   "cell_type": "markdown",
   "id": "ee46687b-1ea5-4388-b0be-4806fa5dbaba",
   "metadata": {},
   "source": [
    "# Day 5"
   ]
  },
  {
   "cell_type": "code",
   "execution_count": null,
   "id": "4aafef09-8898-45c9-a0ad-9d67d394a8b8",
   "metadata": {},
   "outputs": [],
   "source": [
    "with open('day5_input.txt') as f:\n",
    "    data = L(f.readlines())"
   ]
  },
  {
   "cell_type": "code",
   "execution_count": null,
   "id": "0961297f-90a5-4e32-9e20-51d8d711585d",
   "metadata": {},
   "outputs": [
    {
     "data": {
      "text/plain": [
       "[4, 4, 4, 4, 4, 4, 4, 4, 3]"
      ]
     },
     "execution_count": null,
     "metadata": {},
     "output_type": "execute_result"
    }
   ],
   "source": [
    "[4]*8 + [3]"
   ]
  },
  {
   "cell_type": "code",
   "execution_count": null,
   "id": "0d805abf-b27e-4fb6-b195-c085b687693f",
   "metadata": {},
   "outputs": [
    {
     "ename": "TypeError",
     "evalue": "Each column specification must be 2 element tuple or list of integers",
     "output_type": "error",
     "traceback": [
      "\u001b[0;31m---------------------------------------------------------------------------\u001b[0m",
      "\u001b[0;31mTypeError\u001b[0m                                 Traceback (most recent call last)",
      "Input \u001b[0;32mIn [477]\u001b[0m, in \u001b[0;36m<cell line: 1>\u001b[0;34m()\u001b[0m\n\u001b[0;32m----> 1\u001b[0m \u001b[43mpd\u001b[49m\u001b[38;5;241;43m.\u001b[39;49m\u001b[43mread_fwf\u001b[49m\u001b[43m(\u001b[49m\u001b[38;5;124;43m'\u001b[39;49m\u001b[38;5;124;43mday5_input.txt\u001b[39;49m\u001b[38;5;124;43m'\u001b[39;49m\u001b[43m,\u001b[49m\u001b[43mcolspecs\u001b[49m\u001b[38;5;241;43m=\u001b[39;49m\u001b[43m(\u001b[49m\u001b[43m[\u001b[49m\u001b[38;5;241;43m4\u001b[39;49m\u001b[43m]\u001b[49m\u001b[38;5;241;43m*\u001b[39;49m\u001b[38;5;241;43m8\u001b[39;49m\u001b[43m \u001b[49m\u001b[38;5;241;43m+\u001b[39;49m\u001b[43m \u001b[49m\u001b[43m[\u001b[49m\u001b[38;5;241;43m3\u001b[39;49m\u001b[43m]\u001b[49m\u001b[43m)\u001b[49m\u001b[43m,\u001b[49m\u001b[43mnrows\u001b[49m\u001b[38;5;241;43m=\u001b[39;49m\u001b[38;5;241;43m8\u001b[39;49m\u001b[43m)\u001b[49m\n",
      "File \u001b[0;32m~/opt/miniconda3/lib/python3.9/site-packages/pandas/io/parsers/readers.py:762\u001b[0m, in \u001b[0;36mread_fwf\u001b[0;34m(filepath_or_buffer, colspecs, widths, infer_nrows, **kwds)\u001b[0m\n\u001b[1;32m    760\u001b[0m kwds[\u001b[38;5;124m\"\u001b[39m\u001b[38;5;124minfer_nrows\u001b[39m\u001b[38;5;124m\"\u001b[39m] \u001b[38;5;241m=\u001b[39m infer_nrows\n\u001b[1;32m    761\u001b[0m kwds[\u001b[38;5;124m\"\u001b[39m\u001b[38;5;124mengine\u001b[39m\u001b[38;5;124m\"\u001b[39m] \u001b[38;5;241m=\u001b[39m \u001b[38;5;124m\"\u001b[39m\u001b[38;5;124mpython-fwf\u001b[39m\u001b[38;5;124m\"\u001b[39m\n\u001b[0;32m--> 762\u001b[0m \u001b[38;5;28;01mreturn\u001b[39;00m \u001b[43m_read\u001b[49m\u001b[43m(\u001b[49m\u001b[43mfilepath_or_buffer\u001b[49m\u001b[43m,\u001b[49m\u001b[43m \u001b[49m\u001b[43mkwds\u001b[49m\u001b[43m)\u001b[49m\n",
      "File \u001b[0;32m~/opt/miniconda3/lib/python3.9/site-packages/pandas/io/parsers/readers.py:482\u001b[0m, in \u001b[0;36m_read\u001b[0;34m(filepath_or_buffer, kwds)\u001b[0m\n\u001b[1;32m    479\u001b[0m _validate_names(kwds\u001b[38;5;241m.\u001b[39mget(\u001b[38;5;124m\"\u001b[39m\u001b[38;5;124mnames\u001b[39m\u001b[38;5;124m\"\u001b[39m, \u001b[38;5;28;01mNone\u001b[39;00m))\n\u001b[1;32m    481\u001b[0m \u001b[38;5;66;03m# Create the parser.\u001b[39;00m\n\u001b[0;32m--> 482\u001b[0m parser \u001b[38;5;241m=\u001b[39m \u001b[43mTextFileReader\u001b[49m\u001b[43m(\u001b[49m\u001b[43mfilepath_or_buffer\u001b[49m\u001b[43m,\u001b[49m\u001b[43m \u001b[49m\u001b[38;5;241;43m*\u001b[39;49m\u001b[38;5;241;43m*\u001b[39;49m\u001b[43mkwds\u001b[49m\u001b[43m)\u001b[49m\n\u001b[1;32m    484\u001b[0m \u001b[38;5;28;01mif\u001b[39;00m chunksize \u001b[38;5;129;01mor\u001b[39;00m iterator:\n\u001b[1;32m    485\u001b[0m     \u001b[38;5;28;01mreturn\u001b[39;00m parser\n",
      "File \u001b[0;32m~/opt/miniconda3/lib/python3.9/site-packages/pandas/io/parsers/readers.py:811\u001b[0m, in \u001b[0;36mTextFileReader.__init__\u001b[0;34m(self, f, engine, **kwds)\u001b[0m\n\u001b[1;32m    808\u001b[0m \u001b[38;5;28;01mif\u001b[39;00m \u001b[38;5;124m\"\u001b[39m\u001b[38;5;124mhas_index_names\u001b[39m\u001b[38;5;124m\"\u001b[39m \u001b[38;5;129;01min\u001b[39;00m kwds:\n\u001b[1;32m    809\u001b[0m     \u001b[38;5;28mself\u001b[39m\u001b[38;5;241m.\u001b[39moptions[\u001b[38;5;124m\"\u001b[39m\u001b[38;5;124mhas_index_names\u001b[39m\u001b[38;5;124m\"\u001b[39m] \u001b[38;5;241m=\u001b[39m kwds[\u001b[38;5;124m\"\u001b[39m\u001b[38;5;124mhas_index_names\u001b[39m\u001b[38;5;124m\"\u001b[39m]\n\u001b[0;32m--> 811\u001b[0m \u001b[38;5;28mself\u001b[39m\u001b[38;5;241m.\u001b[39m_engine \u001b[38;5;241m=\u001b[39m \u001b[38;5;28;43mself\u001b[39;49m\u001b[38;5;241;43m.\u001b[39;49m\u001b[43m_make_engine\u001b[49m\u001b[43m(\u001b[49m\u001b[38;5;28;43mself\u001b[39;49m\u001b[38;5;241;43m.\u001b[39;49m\u001b[43mengine\u001b[49m\u001b[43m)\u001b[49m\n",
      "File \u001b[0;32m~/opt/miniconda3/lib/python3.9/site-packages/pandas/io/parsers/readers.py:1040\u001b[0m, in \u001b[0;36mTextFileReader._make_engine\u001b[0;34m(self, engine)\u001b[0m\n\u001b[1;32m   1036\u001b[0m     \u001b[38;5;28;01mraise\u001b[39;00m \u001b[38;5;167;01mValueError\u001b[39;00m(\n\u001b[1;32m   1037\u001b[0m         \u001b[38;5;124mf\u001b[39m\u001b[38;5;124m\"\u001b[39m\u001b[38;5;124mUnknown engine: \u001b[39m\u001b[38;5;132;01m{\u001b[39;00mengine\u001b[38;5;132;01m}\u001b[39;00m\u001b[38;5;124m (valid options are \u001b[39m\u001b[38;5;132;01m{\u001b[39;00mmapping\u001b[38;5;241m.\u001b[39mkeys()\u001b[38;5;132;01m}\u001b[39;00m\u001b[38;5;124m)\u001b[39m\u001b[38;5;124m\"\u001b[39m\n\u001b[1;32m   1038\u001b[0m     )\n\u001b[1;32m   1039\u001b[0m \u001b[38;5;66;03m# error: Too many arguments for \"ParserBase\"\u001b[39;00m\n\u001b[0;32m-> 1040\u001b[0m \u001b[38;5;28;01mreturn\u001b[39;00m \u001b[43mmapping\u001b[49m\u001b[43m[\u001b[49m\u001b[43mengine\u001b[49m\u001b[43m]\u001b[49m\u001b[43m(\u001b[49m\u001b[38;5;28;43mself\u001b[39;49m\u001b[38;5;241;43m.\u001b[39;49m\u001b[43mf\u001b[49m\u001b[43m,\u001b[49m\u001b[43m \u001b[49m\u001b[38;5;241;43m*\u001b[39;49m\u001b[38;5;241;43m*\u001b[39;49m\u001b[38;5;28;43mself\u001b[39;49m\u001b[38;5;241;43m.\u001b[39;49m\u001b[43moptions\u001b[49m\u001b[43m)\u001b[49m\n",
      "File \u001b[0;32m~/opt/miniconda3/lib/python3.9/site-packages/pandas/io/parsers/python_parser.py:1203\u001b[0m, in \u001b[0;36mFixedWidthFieldParser.__init__\u001b[0;34m(self, f, **kwds)\u001b[0m\n\u001b[1;32m   1201\u001b[0m \u001b[38;5;28mself\u001b[39m\u001b[38;5;241m.\u001b[39mcolspecs \u001b[38;5;241m=\u001b[39m kwds\u001b[38;5;241m.\u001b[39mpop(\u001b[38;5;124m\"\u001b[39m\u001b[38;5;124mcolspecs\u001b[39m\u001b[38;5;124m\"\u001b[39m)\n\u001b[1;32m   1202\u001b[0m \u001b[38;5;28mself\u001b[39m\u001b[38;5;241m.\u001b[39minfer_nrows \u001b[38;5;241m=\u001b[39m kwds\u001b[38;5;241m.\u001b[39mpop(\u001b[38;5;124m\"\u001b[39m\u001b[38;5;124minfer_nrows\u001b[39m\u001b[38;5;124m\"\u001b[39m)\n\u001b[0;32m-> 1203\u001b[0m \u001b[43mPythonParser\u001b[49m\u001b[38;5;241;43m.\u001b[39;49m\u001b[38;5;21;43m__init__\u001b[39;49m\u001b[43m(\u001b[49m\u001b[38;5;28;43mself\u001b[39;49m\u001b[43m,\u001b[49m\u001b[43m \u001b[49m\u001b[43mf\u001b[49m\u001b[43m,\u001b[49m\u001b[43m \u001b[49m\u001b[38;5;241;43m*\u001b[39;49m\u001b[38;5;241;43m*\u001b[39;49m\u001b[43mkwds\u001b[49m\u001b[43m)\u001b[49m\n",
      "File \u001b[0;32m~/opt/miniconda3/lib/python3.9/site-packages/pandas/io/parsers/python_parser.py:100\u001b[0m, in \u001b[0;36mPythonParser.__init__\u001b[0;34m(self, f, **kwds)\u001b[0m\n\u001b[1;32m     98\u001b[0m \u001b[38;5;28;01massert\u001b[39;00m \u001b[38;5;28mhasattr\u001b[39m(\u001b[38;5;28mself\u001b[39m\u001b[38;5;241m.\u001b[39mhandles\u001b[38;5;241m.\u001b[39mhandle, \u001b[38;5;124m\"\u001b[39m\u001b[38;5;124mreadline\u001b[39m\u001b[38;5;124m\"\u001b[39m)\n\u001b[1;32m     99\u001b[0m \u001b[38;5;28;01mtry\u001b[39;00m:\n\u001b[0;32m--> 100\u001b[0m     \u001b[38;5;28;43mself\u001b[39;49m\u001b[38;5;241;43m.\u001b[39;49m\u001b[43m_make_reader\u001b[49m\u001b[43m(\u001b[49m\u001b[38;5;28;43mself\u001b[39;49m\u001b[38;5;241;43m.\u001b[39;49m\u001b[43mhandles\u001b[49m\u001b[38;5;241;43m.\u001b[39;49m\u001b[43mhandle\u001b[49m\u001b[43m)\u001b[49m\n\u001b[1;32m    101\u001b[0m \u001b[38;5;28;01mexcept\u001b[39;00m (csv\u001b[38;5;241m.\u001b[39mError, \u001b[38;5;167;01mUnicodeDecodeError\u001b[39;00m):\n\u001b[1;32m    102\u001b[0m     \u001b[38;5;28mself\u001b[39m\u001b[38;5;241m.\u001b[39mclose()\n",
      "File \u001b[0;32m~/opt/miniconda3/lib/python3.9/site-packages/pandas/io/parsers/python_parser.py:1206\u001b[0m, in \u001b[0;36mFixedWidthFieldParser._make_reader\u001b[0;34m(self, f)\u001b[0m\n\u001b[1;32m   1205\u001b[0m \u001b[38;5;28;01mdef\u001b[39;00m \u001b[38;5;21m_make_reader\u001b[39m(\u001b[38;5;28mself\u001b[39m, f):\n\u001b[0;32m-> 1206\u001b[0m     \u001b[38;5;28mself\u001b[39m\u001b[38;5;241m.\u001b[39mdata \u001b[38;5;241m=\u001b[39m \u001b[43mFixedWidthReader\u001b[49m\u001b[43m(\u001b[49m\n\u001b[1;32m   1207\u001b[0m \u001b[43m        \u001b[49m\u001b[43mf\u001b[49m\u001b[43m,\u001b[49m\n\u001b[1;32m   1208\u001b[0m \u001b[43m        \u001b[49m\u001b[38;5;28;43mself\u001b[39;49m\u001b[38;5;241;43m.\u001b[39;49m\u001b[43mcolspecs\u001b[49m\u001b[43m,\u001b[49m\n\u001b[1;32m   1209\u001b[0m \u001b[43m        \u001b[49m\u001b[38;5;28;43mself\u001b[39;49m\u001b[38;5;241;43m.\u001b[39;49m\u001b[43mdelimiter\u001b[49m\u001b[43m,\u001b[49m\n\u001b[1;32m   1210\u001b[0m \u001b[43m        \u001b[49m\u001b[38;5;28;43mself\u001b[39;49m\u001b[38;5;241;43m.\u001b[39;49m\u001b[43mcomment\u001b[49m\u001b[43m,\u001b[49m\n\u001b[1;32m   1211\u001b[0m \u001b[43m        \u001b[49m\u001b[38;5;28;43mself\u001b[39;49m\u001b[38;5;241;43m.\u001b[39;49m\u001b[43mskiprows\u001b[49m\u001b[43m,\u001b[49m\n\u001b[1;32m   1212\u001b[0m \u001b[43m        \u001b[49m\u001b[38;5;28;43mself\u001b[39;49m\u001b[38;5;241;43m.\u001b[39;49m\u001b[43minfer_nrows\u001b[49m\u001b[43m,\u001b[49m\n\u001b[1;32m   1213\u001b[0m \u001b[43m    \u001b[49m\u001b[43m)\u001b[49m\n",
      "File \u001b[0;32m~/opt/miniconda3/lib/python3.9/site-packages/pandas/io/parsers/python_parser.py:1117\u001b[0m, in \u001b[0;36mFixedWidthReader.__init__\u001b[0;34m(self, f, colspecs, delimiter, comment, skiprows, infer_nrows)\u001b[0m\n\u001b[1;32m   1110\u001b[0m \u001b[38;5;28;01mfor\u001b[39;00m colspec \u001b[38;5;129;01min\u001b[39;00m \u001b[38;5;28mself\u001b[39m\u001b[38;5;241m.\u001b[39mcolspecs:\n\u001b[1;32m   1111\u001b[0m     \u001b[38;5;28;01mif\u001b[39;00m \u001b[38;5;129;01mnot\u001b[39;00m (\n\u001b[1;32m   1112\u001b[0m         \u001b[38;5;28misinstance\u001b[39m(colspec, (\u001b[38;5;28mtuple\u001b[39m, \u001b[38;5;28mlist\u001b[39m))\n\u001b[1;32m   1113\u001b[0m         \u001b[38;5;129;01mand\u001b[39;00m \u001b[38;5;28mlen\u001b[39m(colspec) \u001b[38;5;241m==\u001b[39m \u001b[38;5;241m2\u001b[39m\n\u001b[1;32m   1114\u001b[0m         \u001b[38;5;129;01mand\u001b[39;00m \u001b[38;5;28misinstance\u001b[39m(colspec[\u001b[38;5;241m0\u001b[39m], (\u001b[38;5;28mint\u001b[39m, np\u001b[38;5;241m.\u001b[39minteger, \u001b[38;5;28mtype\u001b[39m(\u001b[38;5;28;01mNone\u001b[39;00m)))\n\u001b[1;32m   1115\u001b[0m         \u001b[38;5;129;01mand\u001b[39;00m \u001b[38;5;28misinstance\u001b[39m(colspec[\u001b[38;5;241m1\u001b[39m], (\u001b[38;5;28mint\u001b[39m, np\u001b[38;5;241m.\u001b[39minteger, \u001b[38;5;28mtype\u001b[39m(\u001b[38;5;28;01mNone\u001b[39;00m)))\n\u001b[1;32m   1116\u001b[0m     ):\n\u001b[0;32m-> 1117\u001b[0m         \u001b[38;5;28;01mraise\u001b[39;00m \u001b[38;5;167;01mTypeError\u001b[39;00m(\n\u001b[1;32m   1118\u001b[0m             \u001b[38;5;124m\"\u001b[39m\u001b[38;5;124mEach column specification must be \u001b[39m\u001b[38;5;124m\"\u001b[39m\n\u001b[1;32m   1119\u001b[0m             \u001b[38;5;124m\"\u001b[39m\u001b[38;5;124m2 element tuple or list of integers\u001b[39m\u001b[38;5;124m\"\u001b[39m\n\u001b[1;32m   1120\u001b[0m         )\n",
      "\u001b[0;31mTypeError\u001b[0m: Each column specification must be 2 element tuple or list of integers"
     ]
    }
   ],
   "source": [
    "pd.read_fwf('day5_input.txt',colspecs=([4]*8 + [3]),nrows=8)"
   ]
  },
  {
   "cell_type": "code",
   "execution_count": null,
   "id": "14393f03-f7a4-4899-91de-6aab67bde328",
   "metadata": {},
   "outputs": [
    {
     "data": {
      "text/html": [
       "<div>\n",
       "<style scoped>\n",
       "    .dataframe tbody tr th:only-of-type {\n",
       "        vertical-align: middle;\n",
       "    }\n",
       "\n",
       "    .dataframe tbody tr th {\n",
       "        vertical-align: top;\n",
       "    }\n",
       "\n",
       "    .dataframe thead th {\n",
       "        text-align: right;\n",
       "    }\n",
       "</style>\n",
       "<table border=\"1\" class=\"dataframe\">\n",
       "  <thead>\n",
       "    <tr style=\"text-align: right;\">\n",
       "      <th></th>\n",
       "      <th>[V]     [C]     [M]</th>\n",
       "    </tr>\n",
       "  </thead>\n",
       "  <tbody>\n",
       "    <tr>\n",
       "      <th>0</th>\n",
       "      <td>[V]     [J]     [N]     [H]     [V]</td>\n",
       "    </tr>\n",
       "    <tr>\n",
       "      <th>1</th>\n",
       "      <td>[R] [F] [N]     [W]     [Z]     [N]</td>\n",
       "    </tr>\n",
       "    <tr>\n",
       "      <th>2</th>\n",
       "      <td>[H] [R] [D]     [Q] [M] [L]     [B]</td>\n",
       "    </tr>\n",
       "    <tr>\n",
       "      <th>3</th>\n",
       "      <td>[B] [C] [H] [V] [R] [C] [G]     [R]</td>\n",
       "    </tr>\n",
       "    <tr>\n",
       "      <th>4</th>\n",
       "      <td>[G] [G] [F] [S] [D] [H] [B] [R] [S]</td>\n",
       "    </tr>\n",
       "    <tr>\n",
       "      <th>5</th>\n",
       "      <td>[D] [N] [S] [D] [H] [G] [J] [J] [G]</td>\n",
       "    </tr>\n",
       "    <tr>\n",
       "      <th>6</th>\n",
       "      <td>[W] [J] [L] [J] [S] [P] [F] [S] [L]</td>\n",
       "    </tr>\n",
       "    <tr>\n",
       "      <th>7</th>\n",
       "      <td>1   2   3   4   5   6   7   8   9</td>\n",
       "    </tr>\n",
       "  </tbody>\n",
       "</table>\n",
       "</div>"
      ],
      "text/plain": [
       "                   [V]     [C]     [M]\n",
       "0  [V]     [J]     [N]     [H]     [V]\n",
       "1  [R] [F] [N]     [W]     [Z]     [N]\n",
       "2  [H] [R] [D]     [Q] [M] [L]     [B]\n",
       "3  [B] [C] [H] [V] [R] [C] [G]     [R]\n",
       "4  [G] [G] [F] [S] [D] [H] [B] [R] [S]\n",
       "5  [D] [N] [S] [D] [H] [G] [J] [J] [G]\n",
       "6  [W] [J] [L] [J] [S] [P] [F] [S] [L]\n",
       "7   1   2   3   4   5   6   7   8   9 "
      ]
     },
     "execution_count": null,
     "metadata": {},
     "output_type": "execute_result"
    }
   ],
   "source": [
    "pd.read_csv('day5_input.txt',nrows=8,)"
   ]
  },
  {
   "cell_type": "code",
   "execution_count": null,
   "id": "f403bf59-9d44-4290-a2f4-9ad4abfef884",
   "metadata": {},
   "outputs": [],
   "source": [
    "split = data.index('\\n')\n",
    "moves = pd.DataFrame(data[split+1:].map(lambda x: x.replace('\\n','').replace('move ','').replace(' from','').replace(' to','').split(' ')))"
   ]
  },
  {
   "cell_type": "code",
   "execution_count": null,
   "id": "c822ad38-d4d0-4306-bd80-0ef0b7ce411b",
   "metadata": {},
   "outputs": [
    {
     "ename": "TypeError",
     "evalue": "must be str or None, not int",
     "output_type": "error",
     "traceback": [
      "\u001b[0;31m---------------------------------------------------------------------------\u001b[0m",
      "\u001b[0;31mTypeError\u001b[0m                                 Traceback (most recent call last)",
      "Input \u001b[0;32mIn [460]\u001b[0m, in \u001b[0;36m<cell line: 1>\u001b[0;34m()\u001b[0m\n\u001b[0;32m----> 1\u001b[0m \u001b[38;5;124;43m'\u001b[39;49m\u001b[38;5;124;43mabc\u001b[39;49m\u001b[38;5;124;43m'\u001b[39;49m\u001b[38;5;241;43m.\u001b[39;49m\u001b[43msplit\u001b[49m\u001b[43m(\u001b[49m\u001b[38;5;241;43m2\u001b[39;49m\u001b[43m)\u001b[49m\n",
      "\u001b[0;31mTypeError\u001b[0m: must be str or None, not int"
     ]
    }
   ],
   "source": [
    "'abc'.split("
   ]
  },
  {
   "cell_type": "code",
   "execution_count": null,
   "id": "9a96cdc8-9b2c-4105-b07a-e7774a7b51ff",
   "metadata": {},
   "outputs": [
    {
     "data": {
      "text/plain": [
       "(#0) []"
      ]
     },
     "execution_count": null,
     "metadata": {},
     "output_type": "execute_result"
    }
   ],
   "source": [
    "data.split('\\n')"
   ]
  },
  {
   "cell_type": "code",
   "execution_count": null,
   "id": "9cf524d5-e701-41fd-bfa1-d50491b3da4a",
   "metadata": {},
   "outputs": [
    {
     "data": {
      "text/plain": [
       "<function str.split(sep=None, maxsplit=-1)>"
      ]
     },
     "execution_count": null,
     "metadata": {},
     "output_type": "execute_result"
    }
   ],
   "source": [
    "'abc a'.split"
   ]
  },
  {
   "cell_type": "markdown",
   "id": "a0a81f5d-0046-46cf-96da-39ac22400cf2",
   "metadata": {},
   "source": [
    "# Day 6"
   ]
  },
  {
   "cell_type": "markdown",
   "id": "431ef8ec-4585-449b-ba66-a77d861044bc",
   "metadata": {},
   "source": [
    "# Day 7"
   ]
  },
  {
   "cell_type": "code",
   "execution_count": null,
   "id": "0f2808a0-287a-481f-b856-215cc2401df8",
   "metadata": {},
   "outputs": [],
   "source": []
  }
 ],
 "metadata": {
  "kernelspec": {
   "display_name": "Python 3 (ipykernel)",
   "language": "python",
   "name": "python3"
  }
 },
 "nbformat": 4,
 "nbformat_minor": 5
}
