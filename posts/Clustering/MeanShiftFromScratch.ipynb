{
 "cells": [
  {
   "cell_type": "raw",
   "id": "4a15b2ba-be15-4737-990a-2442ce25dc35",
   "metadata": {},
   "source": [
    "---\n",
    "title: \"MeanShift From Scratch\"\n",
    "author: \"Isaac Flath\"\n",
    "date: \"2022-11-10\"\n",
    "description: \"A deep dive on meanshift clustering with the full algorithm implemented from scratch using pytorch\"\n",
    "categories: [Clustering]\n",
    "image: \"../_TopicImages/ClusteringGraph.png\"\n",
    "---"
   ]
  },
  {
   "cell_type": "markdown",
   "id": "7c7b78f1-45e5-4ae1-81d1-76161937a175",
   "metadata": {},
   "source": [
    "# Intro\n",
    "\n",
    "Meanshift is a clustering algorithm in the same family as [K-Means](KMeansFromScratch.ipynb).  K-Means is the much more widely known well known clustering algorithm, but is advantageous in a lot of situations.\n",
    "\n",
    "First, you don't have to decide how many clusters ahead of time.  This is important because in many datasets especially as they get very complex it can be hard to know how many clusters you really should have.  Meanshift requires bandwidth which is much easier to select.\n",
    "\n",
    "Second, k-means looks at circular clusters.  You need to do some custom work to make it work for non-circular clusters.  Sometimes data doesn't split nicely into circular clusters.  Meanshift can handle clusters of any shape.\n",
    "\n",
    ":::{.callout-note}\n",
    "## Credit\n",
    "This follows what Jeremy Howard did in a notebook as part of the [2022 part 2 course](https://www.fast.ai/posts/part2-2022.html).  I'm changing a few things, explaining things slightly different, and doing a few additional things - but his lecture covers the bulk of what in here and was the inspiration and starting point!  \n",
    ":::"
   ]
  },
  {
   "cell_type": "markdown",
   "id": "f2e50b26-8cbb-463a-9b83-81015bb993e2",
   "metadata": {},
   "source": [
    "# Imports and setup"
   ]
  },
  {
   "cell_type": "code",
   "execution_count": null,
   "id": "35e9e944-64a9-4afc-a267-448aa9350b02",
   "metadata": {},
   "outputs": [],
   "source": [
    "#| code-fold: true\n",
    "import math, random, matplotlib.pyplot as plt, operator, torch\n",
    "from functools import partial\n",
    "from fastcore.all import *\n",
    "from torch.distributions.multivariate_normal import MultivariateNormal\n",
    "from torch import tensor\n",
    "import numpy as np"
   ]
  },
  {
   "cell_type": "code",
   "execution_count": null,
   "id": "3746980b-e0f9-41f3-92c5-d0f6edf49550",
   "metadata": {},
   "outputs": [],
   "source": [
    "#| code-fold: true\n",
    "torch.manual_seed(42)\n",
    "torch.set_printoptions(precision=3, linewidth=140, sci_mode=False)"
   ]
  },
  {
   "cell_type": "code",
   "execution_count": null,
   "id": "52ebf418-5f4e-45eb-8edf-5cc9eba80988",
   "metadata": {},
   "outputs": [],
   "source": [
    "#| code-fold: true\n",
    "def plot_data(centroids:torch.Tensor,# Centroid coordinates\n",
    "              data:torch.Tensor, # Data Coordinates\n",
    "              n_samples:int, # Number of samples\n",
    "              ax:plt.Axes=None # Matplotlib Axes object\n",
    "             )-> None:\n",
    "    '''Creates a visualization of centroids and data points for clustering problems'''\n",
    "    if ax is None: _,ax = plt.subplots()\n",
    "    for i, centroid in enumerate(centroids):\n",
    "        samples = data[i*n_samples:(i+1)*n_samples]\n",
    "        ax.scatter(samples[:,0], samples[:,1], s=1)\n",
    "        ax.plot(*centroid, markersize=10, marker=\"x\", color='k', mew=5)\n",
    "        ax.plot(*centroid, markersize=5, marker=\"x\", color='m', mew=2)"
   ]
  },
  {
   "cell_type": "markdown",
   "id": "2c518e3f-dbe2-4e00-94ea-468442c047dd",
   "metadata": {},
   "source": [
    "# Generate Dataset\n",
    "\n",
    "I'm using the same generated data that Jeremy did.  I refactored a bit, but it's the same thing."
   ]
  },
  {
   "cell_type": "code",
   "execution_count": null,
   "id": "cee9ffac-fcaf-4bca-aa35-045b005b0fcb",
   "metadata": {},
   "outputs": [],
   "source": [
    "def create_dataset(n_clusters,n_samples):\n",
    "    centroids = torch.rand(n_clusters, 2)*70-35 # Points between -35 and 35\n",
    "    def sample(m): return MultivariateNormal(m, torch.diag(tensor([5.,5.]))).sample((n_samples,))\n",
    "    data = torch.cat([sample(c) for c in centroids])\n",
    "    return data,centroids"
   ]
  },
  {
   "cell_type": "code",
   "execution_count": null,
   "id": "189ac354-be7a-48e1-87dd-312947bbe5a6",
   "metadata": {},
   "outputs": [],
   "source": [
    "n_clusters = 6\n",
    "n_samples = 250\n",
    "data,centroids = create_dataset(n_clusters,n_samples)"
   ]
  },
  {
   "cell_type": "code",
   "execution_count": null,
   "id": "9b943133-498d-4947-9d51-026f2ae1809a",
   "metadata": {},
   "outputs": [
    {
     "data": {
      "image/png": "[encoded data removed]",
      "text/plain": [
       "<Figure size 432x288 with 1 Axes>"
      ]
     },
     "metadata": {
      "needs_background": "light"
     },
     "output_type": "display_data"
    }
   ],
   "source": [
    "plot_data(centroids, data, n_samples)"
   ]
  },
  {
   "cell_type": "markdown",
   "id": "0040333d-e031-4f25-807e-6a23351b7ae3",
   "metadata": {},
   "source": [
    "# Meanshift"
   ]
  },
  {
   "cell_type": "markdown",
   "id": "c1c85e8b-c20f-4b24-9e7b-cd9d131b076e",
   "metadata": {},
   "source": [
    "MeanShift is a clustering algorithm.  There's 3 main steps to the process.\n",
    "\n",
    ":::{.callout-tip}\n",
    "## Meanshift Algorithm\n",
    "\n",
    "1. Calculate distances between every point\n",
    "1. Calculate weights based on distance and bandwidth\n",
    "1. Update centroid predictions using weights and distances to calculate weighted average\n",
    "\n",
    "::::\n",
    "\n",
    "Once you have those steps, you can repeat them until you have your final centroid locations"
   ]
  },
  {
   "cell_type": "markdown",
   "id": "163819a6-a393-4c75-987d-37bf525c2dd3",
   "metadata": {},
   "source": [
    "## Calculate Distance\n",
    "\n",
    "In K-Means, you calculate the distance between each point and the cluster centroids.  In meanshift we calculate the distance between each point and every other point.  Given a tensor of centroid coordinates and a tensor of data coordinates we calculate distance.\n",
    "\n",
    ":::{.callout-tip}\n",
    "## Distance Calculation Steps\n",
    "+ Subtract data points coordinates from all other data point coordinates\n",
    "+ Take absolute value of distances\n",
    "+ Pythagorean Calculation\n",
    "    + Square coordinates\n",
    "    + Add them together\n",
    "    + Take the Square Root\n",
    ":::\n",
    "\n",
    "Let's put that in a function."
   ]
  },
  {
   "cell_type": "code",
   "execution_count": null,
   "id": "5fb6c6c8-26b3-49f1-907e-e392ecb10887",
   "metadata": {},
   "outputs": [],
   "source": [
    "def calculate_distances(data:torch.Tensor # Data points you want to cluster\n",
    "                       )-> torch.Tensor: # Tensor containing euclidean distance between each centroid and data point    \n",
    "    '''Calculate distance between centroids and each datapoint'''\n",
    "    axis_distances = data.reshape(-1,1,2).sub(data.reshape(1,-1,2))#.abs()\n",
    "    euclid_distances = axis_distances.square().sum(axis=-1).sqrt()\n",
    "    return euclid_distances"
   ]
  },
  {
   "cell_type": "markdown",
   "id": "6d7b9030-39ba-422e-9fa6-88f6c1382d24",
   "metadata": {},
   "source": [
    "## Calculate weights\n",
    "\n",
    "Next we need to create the weights.  There are 2 factors that go into calculating weights\n",
    "\n",
    "+ How far away is this point from the other point?\n",
    "+ What's the bandwidth?\n",
    "\n",
    "The way we use this is we create a gaussian function to determine the weight based on distance.  That looks like this."
   ]
  },
  {
   "cell_type": "code",
   "execution_count": null,
   "id": "0f56e972-3e04-4f62-ba90-2606d328fc09",
   "metadata": {},
   "outputs": [],
   "source": [
    "def gaussian(x): return torch.exp(-0.5*((x))**2) / (math.sqrt(2*math.pi))"
   ]
  },
  {
   "cell_type": "code",
   "execution_count": null,
   "id": "dc6c2d0f-91d6-4e88-b2fa-f3590fd7e3aa",
   "metadata": {},
   "outputs": [
    {
     "data": {
      "image/png": "[encoded data removed]",
      "text/plain": [
       "<Figure size 432x288 with 1 Axes>"
      ]
     },
     "metadata": {
      "needs_background": "light"
     },
     "output_type": "display_data"
    }
   ],
   "source": [
    "_x=torch.linspace(-5, 5, 100)\n",
    "plt.plot(_x,gaussian(_x)); plt.show()"
   ]
  },
  {
   "cell_type": "markdown",
   "id": "3a365153-4143-4fac-b7c0-ad226323fa17",
   "metadata": {},
   "source": [
    "We modify the above slightly by adding a parameter called the bandwidth.  By adjusting the bandwidth we can adjust how fast or slow the weights decay as the distance increases.  A Gaussian with a bandwidth of 1 (middle chart) is just the normal distribution we saw above.  \n",
    "\n",
    "Because distance is never negative, we don't need negative values\n",
    "\n",
    ":::{.callout-tip}\n",
    "The bandwidth is the standard deviation of the gaussian\n",
    ":::"
   ]
  },
  {
   "cell_type": "code",
   "execution_count": null,
   "id": "d41a1b8d-17ae-410d-a2a1-904ce03b56cc",
   "metadata": {},
   "outputs": [],
   "source": [
    "def gaussian(x, bw): return torch.exp(-0.5*((x/bw))**2) / (bw*math.sqrt(2*torch.pi))"
   ]
  },
  {
   "cell_type": "code",
   "execution_count": null,
   "id": "ca2e6a47-18a2-44d6-a546-5fd2b8cfb293",
   "metadata": {},
   "outputs": [
    {
     "data": {
      "image/png": "[encoded data removed]",
      "text/plain": [
       "<Figure size 1080x216 with 3 Axes>"
      ]
     },
     "metadata": {
      "needs_background": "light"
     },
     "output_type": "display_data"
    }
   ],
   "source": [
    "_x=torch.linspace(0, 5, 100)\n",
    "fig,ax = plt.subplots(1,3,figsize=(15,3))\n",
    "for a,bw in zip(ax,[.5,1,2]):\n",
    "    a.plot(_x, gaussian(_x, bw))\n",
    "    a.set_title(f\"Gaussian with bandwidth={bw}\")\n",
    "    a.set_xlabel('Distance'); a.set_ylabel('Weight')\n",
    "plt.show()"
   ]
  },
  {
   "cell_type": "markdown",
   "id": "ecae4e68-a267-48c6-8c57-f87d4bc2b75f",
   "metadata": {},
   "source": [
    "## Update Centroids"
   ]
  },
  {
   "cell_type": "markdown",
   "id": "97a1f108-f1a5-4084-b1fd-f646908e5800",
   "metadata": {},
   "source": [
    "Now that we have our distance and weights we can update our centroid predictions and loop through until the points converge to give us cluster locations.  We do this by taking a weighted average of all the other points based (using the weights calculated previously)."
   ]
  },
  {
   "cell_type": "code",
   "execution_count": null,
   "id": "db6a5401-6814-48a4-a4be-c09a02470f02",
   "metadata": {},
   "outputs": [],
   "source": [
    "def meanshift(X):\n",
    "    dist = calculate_distances(X)\n",
    "    weight = gaussian(dist, 2.5)\n",
    "    X = weight@X/weight.sum(1,keepdim=True)\n",
    "    return X"
   ]
  },
  {
   "cell_type": "markdown",
   "id": "5f6df1b4-74dd-4942-9adc-f206f1140480",
   "metadata": {},
   "source": [
    "## All Together"
   ]
  },
  {
   "cell_type": "markdown",
   "id": "f155e647-ecac-48c8-9868-04b983d57c02",
   "metadata": {},
   "source": [
    "Now that we have our meanshift function, we can create a function to run the model for several epochs and a function to plot the results.  A few nuances here:\n",
    "\n",
    "+ I am making `run_exp` a higher order function so it's easy to try tweaks to the algorithm\n",
    "+ I am testing if the coordinates change.  If coordinates do not change I consider it converged and stop the training.  I will run the model until it converges or after 100 epochs."
   ]
  },
  {
   "cell_type": "code",
   "execution_count": null,
   "id": "5b8fad82-1c9b-433b-923c-dc4b35eab9e1",
   "metadata": {},
   "outputs": [],
   "source": [
    "def run_exp(data,fn,max_epochs=100):\n",
    "    coord = data.clone() \n",
    "    for i in range(max_epochs):\n",
    "        _coord = fn(coord)\n",
    "        if (i>0) and (coord==_coord).all()==True: break\n",
    "        else:\n",
    "            coord = _coord\n",
    "            p_centroids = torch.unique(coord,dim=0)\n",
    "    return p_centroids,coord,i"
   ]
  },
  {
   "cell_type": "markdown",
   "id": "5c7fbf54-2392-4a17-bc7d-bbe39597b94c",
   "metadata": {},
   "source": [
    "Next I create a couple functions to help me try things quickly and not have to scroll through duplicate print/plot code lines."
   ]
  },
  {
   "cell_type": "code",
   "execution_count": null,
   "id": "a0a66f1d-563d-490d-ac23-d9a548389425",
   "metadata": {},
   "outputs": [],
   "source": [
    "def plot_results(centroids,p_centroids):\n",
    "    _,ax = plt.subplots()\n",
    "    ax.scatter(p_centroids[:,0],p_centroids[:,1],label='Predicted',marker='x',s=200)\n",
    "    ax.scatter(centroids[:,0],centroids[:,1],label='Target',marker='o',s=200,alpha=0.5)\n",
    "    ax.legend()\n",
    "    plt.show()"
   ]
  },
  {
   "cell_type": "code",
   "execution_count": null,
   "id": "c4a37b6f-0a0d-4792-a3e9-377f7d0093e8",
   "metadata": {},
   "outputs": [],
   "source": [
    "def print_results(fn,data):\n",
    "    %timeit p_centroids,p_coord,p_epochs = run_exp(data,fn)\n",
    "    p_centroids,p_coord,p_epochs = run_exp(data,fn)\n",
    "    print(f\"Algorithm found {p_centroids.shape[0]} Centroids in {p_epochs} epochs\")\n",
    "    plot_results(centroids,p_centroids)"
   ]
  },
  {
   "cell_type": "markdown",
   "id": "bf1927b3-c1a2-43f3-979c-01d1c51b5449",
   "metadata": {},
   "source": [
    "# Train Algorithm"
   ]
  },
  {
   "cell_type": "markdown",
   "id": "9ce49f16-7110-4941-8d2e-e643baee568a",
   "metadata": {},
   "source": [
    "## Baseline"
   ]
  },
  {
   "cell_type": "markdown",
   "id": "b49e6c57-1c13-4c7a-bc08-c6a494eef2ef",
   "metadata": {},
   "source": [
    ":::{.callout-note}\n",
    "\n",
    "## Algorithm Results\n",
    "\n",
    "+ Found the right number of centroids (6)\n",
    "+ Converged in 9 epochs\n",
    "+ Plot looks good - centroids are accurately placed\n",
    ":::"
   ]
  },
  {
   "cell_type": "code",
   "execution_count": null,
   "id": "637016a1-749d-4b81-85b4-a0210262880a",
   "metadata": {},
   "outputs": [],
   "source": [
    "def meanshift1(X):\n",
    "    dist = calculate_distances(X)\n",
    "    weight = gaussian(dist, 2.5)\n",
    "    return weight@X/weight.sum(1,keepdim=True)"
   ]
  },
  {
   "cell_type": "code",
   "execution_count": null,
   "id": "6f038e3d-b91e-47bd-927e-83b7c0d88679",
   "metadata": {},
   "outputs": [
    {
     "name": "stdout",
     "output_type": "stream",
     "text": [
      "151 ms ± 457 µs per loop (mean ± std. dev. of 7 runs, 10 loops each)\n",
      "Algorithm found 6 Centroids in 9 epochs\n"
     ]
    },
    {
     "data": {
      "image/png": "[encoded data removed]",
      "text/plain": [
       "<Figure size 432x288 with 1 Axes>"
      ]
     },
     "metadata": {
      "needs_background": "light"
     },
     "output_type": "display_data"
    }
   ],
   "source": [
    "print_results(meanshift1,data)"
   ]
  },
  {
   "cell_type": "markdown",
   "id": "2170ad5e-6dca-404f-8c68-e6e17f47f245",
   "metadata": {},
   "source": [
    "## Ramp\n",
    "\n",
    "I tried using a linear decline then flat at 0 instead of a gaussian to see if that speeds things up.  This was from Jeremy's lecture as an idea to try that seemed to work.\n",
    "\n",
    ":::{.callout-note}\n",
    "\n",
    "## Algorithm Results\n",
    "\n",
    "+ Found the right number of centroids (6)\n",
    "+ Converged in 9 epochs\n",
    "+ Plot looks good - centroids are accurately placed\n",
    "+ Ran in same speed as the gaussian.  I figure that might change if scaled up and put on a GPU with lots of data.  Worth more testing!\n",
    ":::"
   ]
  },
  {
   "cell_type": "code",
   "execution_count": null,
   "id": "ec13d65d-3913-480c-ae28-61275b343c58",
   "metadata": {},
   "outputs": [],
   "source": [
    "def tri(d, i): return (-d+i).clamp_min(0)/i"
   ]
  },
  {
   "cell_type": "code",
   "execution_count": null,
   "id": "c97f37dc-5faa-4430-80d9-dab9e43f8344",
   "metadata": {},
   "outputs": [],
   "source": [
    "def meanshift2(X):\n",
    "    dist = calculate_distances(X)\n",
    "    weight = tri(dist, 8)\n",
    "    return weight@X/weight.sum(1,keepdim=True)"
   ]
  },
  {
   "cell_type": "code",
   "execution_count": null,
   "id": "80919b71-f2d0-49de-8ddc-43c5206f43eb",
   "metadata": {},
   "outputs": [
    {
     "name": "stdout",
     "output_type": "stream",
     "text": [
      "151 ms ± 1.13 ms per loop (mean ± std. dev. of 7 runs, 10 loops each)\n",
      "Algorithm found 6 Centroids in 9 epochs\n"
     ]
    },
    {
     "data": {
      "image/png": "[encoded data removed]",
      "text/plain": [
       "<Figure size 432x288 with 1 Axes>"
      ]
     },
     "metadata": {
      "needs_background": "light"
     },
     "output_type": "display_data"
    }
   ],
   "source": [
    "print_results(meanshift1,data)"
   ]
  },
  {
   "cell_type": "markdown",
   "id": "fcdfe721-9b51-4182-a4aa-4d40eb644e98",
   "metadata": {},
   "source": [
    "## Sampling\n",
    "\n",
    "This is the original meanshift (with gaussian) with a random sample of the data.  Even with 20% of the data it got really good centroids (though not perfect) but run much faster.  It also converged to 6 cluster in 8 epochs.  This seems useful."
   ]
  },
  {
   "cell_type": "markdown",
   "id": "fafe51b6-3671-4b5e-8d94-4e545e52d6c2",
   "metadata": {},
   "source": [
    ":::{.callout-note}\n",
    "\n",
    "## Algorithm Results\n",
    "\n",
    "+ Found the right number of centroids (6)\n",
    "+ Converged in 8 epochs\n",
    "+ Plot looks good - centroids are reasonably accurately (but not perfectly) placed\n",
    "+ Ran in less than 10% of the time of the original\n",
    "+ Can control size of random sample based on needs (ie if more accuracy needed)\n",
    ":::\n"
   ]
  },
  {
   "cell_type": "code",
   "execution_count": null,
   "id": "9d5e6ec5-7cdb-4284-9046-aa80d0d38da1",
   "metadata": {},
   "outputs": [
    {
     "name": "stdout",
     "output_type": "stream",
     "text": [
      "13.8 ms ± 142 µs per loop (mean ± std. dev. of 7 runs, 100 loops each)\n",
      "Algorithm found 6 Centroids in 8 epochs\n"
     ]
    },
    {
     "data": {
      "image/png": "[encoded data removed]",
      "text/plain": [
       "<Figure size 432x288 with 1 Axes>"
      ]
     },
     "metadata": {
      "needs_background": "light"
     },
     "output_type": "display_data"
    }
   ],
   "source": [
    "print_results(meanshift1,data[np.random.choice(len(data),300)])"
   ]
  }
 ],
 "metadata": {
  "kernelspec": {
   "display_name": "Python 3 (ipykernel)",
   "language": "python",
   "name": "python3"
  }
 },
 "nbformat": 4,
 "nbformat_minor": 5
}
