{
 "cells": [
  {
   "cell_type": "raw",
   "metadata": {},
   "source": [
    "---\n",
    "title: \"Practical Chatbots\"\n",
    "author: \"Isaac Flath\"\n",
    "date: \"2021-06-23\"\n",
    "description: \"Improving business processes using ML-Based chatbots\"\n",
    "categories: [Neural Networks]\n",
    "image: \"../_TopicImages/NeuralNetwork.jpg\"\n",
    "---"
   ]
  },
  {
   "cell_type": "markdown",
   "metadata": {},
   "source": [
    "I developed a process and app for creating and deploying chatbots for support and question answering purposes for Novetta.  This solution focused on practicality including minimizing the dataset needed, minimizing training/retraining needed, eliminating the need to retrain if policies change, and empowering domain experts to expand and improve the responses of without requiring a ML engineer for every tweak.\n",
    "\n",
    "This approach was built on the sentence transformer (siamese BERT) architecture and the core machine learning technology was semantic similarity.  I built it using dash, but any deployment method could be used (slack bot, email bot, web app, etc.)\n",
    "\n",
    "To read the blog post [click here](https://www.novetta.com/2021/06/chatbots/)\n"
   ]
  }
 ],
 "metadata": {
  "kernelspec": {
   "display_name": "Python 3 (ipykernel)",
   "language": "python",
   "name": "python3"
  }
 },
 "nbformat": 4,
 "nbformat_minor": 4
}
