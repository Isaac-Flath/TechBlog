{
 "cells": [
  {
   "cell_type": "raw",
   "id": "403a76ee-5e55-4980-8247-6e3d434f2739",
   "metadata": {},
   "source": [
    "---\n",
    "title: \"My Coding Style\"\n",
    "author: \"Isaac Flath\"\n",
    "date: \"2022-01-01\"\n",
    "description: \"A summary of what principle guide how I code, and why I don't do pep8 if left on my own\"\n",
    "categories: [Python, Programming]\n",
    "image: \"../_TopicImages/ModelWhiteboarding.jpg\"\n",
    "---"
   ]
  },
  {
   "cell_type": "markdown",
   "id": "3c56569d-c354-499b-aaa8-36a1586a852b",
   "metadata": {},
   "source": [
    "This document outlines the general principles I try to follow while coding.\n",
    "\n",
    "Bear in mind these are my preferences and I code in different styles depending on what project I am working on.  If you're on a big project and everyone is using pep8, you should follow pep8.  Many in the python community feel strong emotions when they see non-pep8 code, so be aware of that too.\n",
    "\n",
    "But if left to my own vices, this is what I do."
   ]
  },
  {
   "cell_type": "markdown",
   "id": "5bc0c045-a4e8-4b59-b18f-d7ee88f4b8d2",
   "metadata": {},
   "source": [
    "## Code Standards\n",
    "\n",
    "Pep8 says \"A Foolish Consistency is the Hobgoblin of Little Minds\".  I believe this strongly.  While I don't believe I should break from a standard for no reason, I also don't believe I should follow a standard if I have reason not to."
   ]
  },
  {
   "cell_type": "markdown",
   "id": "4570cd92-cbd5-4191-92e8-e7193bde4417",
   "metadata": {},
   "source": [
    "## Automation"
   ]
  },
  {
   "cell_type": "markdown",
   "id": "c3c8d5bd-835e-4fa5-9385-e7a101b4970d",
   "metadata": {},
   "source": [
    "Many parts of code formatting can be easily automated.  For items that can be automated, I do not worry about writing my code in that format as the computer can do that for me.\n",
    "\n",
    "For example, if a few extra spaces makes things more legible to me but doesn't conform to whatever the standards of the project are I will write it with the extra spaces and use a script to remove extra spaces later."
   ]
  },
  {
   "cell_type": "markdown",
   "id": "1ec52c4d-0369-4adb-84a5-66d6aa7085d4",
   "metadata": {},
   "source": [
    "## Duplicate Code"
   ]
  },
  {
   "cell_type": "markdown",
   "id": "546a734c-ec3d-47c2-8733-127fb9eb5bac",
   "metadata": {},
   "source": [
    "Duplicate code as little as possible.  Duplicate code means:\n",
    "\n",
    "+ Changes must be implemented in multiple places\n",
    "+ Multiple of the same thing means multiple opportunities for a bug\n",
    "+ More to analyze when doing pull reviews - easier to miss things\n",
    "+ Slower development because small changes must be applied more\n",
    "+ I have to break my chain of thought when making a change to look for other places the same code exists\n"
   ]
  },
  {
   "cell_type": "markdown",
   "id": "f2c0772d-9631-4c71-849e-5510b0c9aff7",
   "metadata": {},
   "source": [
    "# Programming Paradigm\n",
    "\n",
    "I don't follow a strictly functional programming paradigm, but I tend lean more toward functional than I do object oriented.  "
   ]
  },
  {
   "cell_type": "markdown",
   "id": "39e8303e-526c-4dfc-b704-a76364ca8c90",
   "metadata": {},
   "source": [
    "# Audience\n",
    "\n",
    "I write code with the assumption that the people who will be reading my code are experienced coders.  If I think a paradigm or approach is the best fit, I use it.  I do not avoid paradigms or techniques because they are not common or because they are advanced and may confuse someone. \n",
    "\n",
    "People are always welcome to ask how something works if they do not know. \n",
    "\n",
    "Besides, the people I want to work with would be delighted to see a programming approach that makes sense that they don't know.  It's a great learning experience when that happens :)"
   ]
  },
  {
   "cell_type": "markdown",
   "id": "25a1be9f-4ea5-424d-b15f-6f747e3f7ae8",
   "metadata": {},
   "source": [
    "## Assume a modern monitor"
   ]
  },
  {
   "cell_type": "markdown",
   "id": "7901a885-b24d-4f9d-b65f-fd1822df1ea0",
   "metadata": {},
   "source": [
    "I assume readers have a modern monitor and text can span most of the screen horizontally, within reason."
   ]
  },
  {
   "cell_type": "markdown",
   "id": "85a91082-4b52-4531-8f96-610fbd22eff5",
   "metadata": {},
   "source": [
    "## Make differences apparent"
   ]
  },
  {
   "cell_type": "markdown",
   "id": "d452456f-7946-4af2-adc5-943b871718b4",
   "metadata": {},
   "source": [
    "+ Group similar things together and make differences apparent, for example this makes it very easy to see the differences in these functions.\n",
    "```python\n",
    "    def add     (a, b): return a +  b\n",
    "    def multiply(a, b): return a *  b\n",
    "    def power   (a, b): return a ** b\n",
    "```"
   ]
  },
  {
   "cell_type": "markdown",
   "id": "18bb1123-cfb0-406c-9d9a-27eb352948ca",
   "metadata": {},
   "source": [
    "## Minimize Scrolling\n",
    "\n",
    "The more scrolling I have to do, the harder it is to have \"flow\".  I want to spend my time thinking about code, not searching for code.\n",
    "\n",
    "This means I try to consolidate lines that I think can be consolidate.  For example I think it's perfectly fine to consolidate import statements like this:\n",
    "\n",
    "```python\n",
    "    import logging, string, pandas as pd, sqlparse\n",
    "```\n",
    "\n",
    "Or to consolidate variable initialization like this:\n",
    "\n",
    "```python\n",
    "    vara, varb, varc = [], 0, {}\n",
    "```\n",
    "\n",
    "There are of course limits to this - use common sense.  Generally if you use plain english to describe the intent of the line it should be a simple sentence. \n",
    "\n",
    "For example \"Import required libraries\" is fine.  \"initialize variables with starting values\" is fine.  \"Predict value, append that to list, then calculate mean squared error by comparing to truth list\" is probably too much for 1 line. "
   ]
  }
 ],
 "metadata": {
  "kernelspec": {
   "display_name": "Python 3 (ipykernel)",
   "language": "python",
   "name": "python3"
  }
 },
 "nbformat": 4,
 "nbformat_minor": 5
}
