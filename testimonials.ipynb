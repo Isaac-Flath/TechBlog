{
 "cells": [
  {
   "cell_type": "raw",
   "id": "fc0516b8-9d49-4752-be82-e381acd9d372",
   "metadata": {},
   "source": [
    "---\n",
    "title: \"Kind Words\"\n",
    "editor: visual\n",
    "jupyter: python3\n",
    "page-layout: full\n",
    "title-block-banner: true\n",
    "---"
   ]
  },
  {
   "cell_type": "markdown",
   "id": "6483909a-11ac-4e66-9288-c656261a6902",
   "metadata": {},
   "source": [
    "# Testimonials"
   ]
  },
  {
   "cell_type": "markdown",
   "id": "387e50ed-6e07-411c-bc6e-347589db04ac",
   "metadata": {},
   "source": [
    "::: {.columns}"
   ]
  },
  {
   "cell_type": "markdown",
   "id": "16f4b892-d2c4-4113-b465-fdd3cd1ed917",
   "metadata": {},
   "source": [
    "::: {.column width=\"42%\"}\n",
    "\n",
    "ABC\n",
    "\n",
    ":::"
   ]
  },
  {
   "cell_type": "markdown",
   "id": "013f90cd-b3e0-4cce-a4ae-971a1d0aacac",
   "metadata": {},
   "source": [
    "::: {.column width=\"6%\"}\n",
    "<!-- empty column to create gap -->\n",
    ":::"
   ]
  },
  {
   "cell_type": "markdown",
   "id": "feee826f-dfa3-4185-b379-765369c55324",
   "metadata": {},
   "source": [
    "::: {.column width=\"42%\"}\n",
    "\n",
    "ABC\n",
    "\n",
    ":::"
   ]
  },
  {
   "cell_type": "markdown",
   "id": "a350ffa3-71be-4e0a-b12e-fea3edcd474a",
   "metadata": {},
   "source": [
    ":::"
   ]
  },
  {
   "cell_type": "markdown",
   "id": "271e24d0-7c90-4bc8-865f-fb8463174c1d",
   "metadata": {},
   "source": [
    "# Kind Words from Social Media\n",
    "\n",
    "::: {.columns}\n",
    "\n",
    "::: {.column width=\"42%\"}\n",
    "\n",
    ":::{.callout-note}\n",
    "## Quote by Hamel Husain\n",
    "<i>\n",
    "Two underrated @fastdotai people I have met recently:\n",
    "\n",
    "- @isaac_flath\n",
    "- @wasimlorgat \n",
    "\n",
    "Both are super thoughtful, talented, proactive, detailed oriented, and use excellent engineering practices.  \n",
    "\n",
    "Highly recommend supporting, funding, hiring etc. these people ✨\n",
    "\n",
    "I don't even know if they are looking for support.  Just spreading the 😍\n",
    "\n",
    "Sometimes you find hidden gems of people in open source that really impress you\n",
    "</i>\n",
    "\n",
    "[Link to Original](https://twitter.com/HamelHusain/status/1544726786507821057)\n",
    ":::\n",
    "\n",
    ":::{.callout-note}\n",
    "## Quote by Vishnu - Jarvislabs.ai\n",
    "<i>\n",
    "📅 Jan - Waiting eagerly for our 1st recharge. Got our 1st $20 🎉🎉.\n",
    "\n",
    "📅 Mar - Upgraded network, added key features, and got listed in @fastdotai, Thanks to @jeremyphoward and fastai community for being our early adopters special thanks to \n",
    "@isaac_flath @jpclap\n",
    "</i>\n",
    "\n",
    "[Link to Original](https://twitter.com/vishnuvig/status/1477478556896686081)\n",
    ":::\n",
    "\n",
    ":::{.callout-note}\n",
    "## Quote by Zach Mueller\n",
    "<i>\n",
    "If you're getting used to Quarto and the new #nbdev format, \n",
    "@isaac_flath's simple QuartoTemplates has been a helpful goldmine of the small nits to do in a Jupyter Notebook with Quarto and I constantly have it open in a tab as I work. Well worth a⭐️https://github.com/Isaac-Flath/QuartoTemplates/tree/main\n",
    "</i>\n",
    "\n",
    "[Link to Original](https://twitter.com/TheZachMueller/status/1591254485074337795)\n",
    ":::\n",
    "\n",
    "\n",
    ":::"
   ]
  },
  {
   "cell_type": "markdown",
   "id": "ea68908a-9170-4ac8-8e1b-a04358c87181",
   "metadata": {},
   "source": [
    "::: {.column width=\"6%\"}\n",
    "<!-- empty column to create gap -->\n",
    ":::"
   ]
  },
  {
   "cell_type": "markdown",
   "id": "1a26c5f6-0127-49ba-86ad-a1f92470529f",
   "metadata": {},
   "source": [
    "::: {.column width=\"42%\"}\n",
    "\n",
    ":::{.callout-note}\n",
    "## Quote by Michael Sto. Niño\n",
    "<i>\n",
    "Isaac is a well-rounded technical person and excellent at product development. He is really good with data analysis, using this skill to formulate a winning product development strategy. I look forward to working with Isaac again in the future.\n",
    "</i>\n",
    "\n",
    "[Link to Original](https://www.linkedin.com/in/isaacflath/#recommendations)\n",
    ":::\n",
    "\n",
    ":::{.callout-note}\n",
    "## Quote by Dien Hoa Truong\n",
    "<i>\n",
    "\n",
    "Pragmatic tip for Python Concurrency:\n",
    "    \n",
    "- Non-CPU bound ( writing files to disk, downloading ): Threads\n",
    "- CPU bound ( Transforming - Cleaning Dataset ): Processes \n",
    "\n",
    "Thanks @isaac_flath for your [blog post](https://isaac-flath.github.io/fastblog/fastcore/fastai/2021/04/01/PythonConcurrency.html)\n",
    "</i>\n",
    "\n",
    "[Link to Original](https://twitter.com/DienhoaT/status/1578139877421764608)\n",
    ":::\n",
    "\n",
    ":::{.callout-note}\n",
    "## Quote from private email\n",
    "<i>\n",
    "hey Isaac I loved your post at [Style GAN Components](https://isaac-flath.github.io/fastblog/deep%20learning/2021/03/01/StyleGanComponents.html)\n",
    "\n",
    "it is excellent,\n",
    "\n",
    "when do you think you will release the \"A future post will be actually building a real StyleGAN model to produce high def images to show practical GANs in full size networks to create actual images\"\n",
    "\n",
    "looking forward to it, thank you :)\n",
    "</i>\n",
    ":::\n",
    "\n",
    ":::\n",
    ":::"
   ]
  },
  {
   "cell_type": "markdown",
   "id": "cba2168c-49fd-4c09-b0ec-c31399542043",
   "metadata": {},
   "source": []
  }
 ],
 "metadata": {
  "kernelspec": {
   "display_name": "Python 3 (ipykernel)",
   "language": "python",
   "name": "python3"
  }
 },
 "nbformat": 4,
 "nbformat_minor": 5
}
