{
 "cells": [
  {
   "cell_type": "raw",
   "id": "fc0516b8-9d49-4752-be82-e381acd9d372",
   "metadata": {},
   "source": [
    "---\n",
    "title: \"Testimonials and Other Kind Words\"\n",
    "page-layout: full\n",
    "title-block-banner: true\n",
    "---"
   ]
  },
  {
   "cell_type": "markdown",
   "id": "52daafa8-2107-45e0-83cb-1874eefde80e",
   "metadata": {},
   "source": [
    "# Testimonials"
   ]
  },
  {
   "cell_type": "markdown",
   "id": "3aca071d-15df-444c-9000-dba21d26503b",
   "metadata": {},
   "source": [
    "::: {.columns}\n",
    "\n",
    "::: {.column width=\"42%\"}"
   ]
  },
  {
   "cell_type": "markdown",
   "id": "5934c51f-18eb-422a-99de-5d685e230684",
   "metadata": {},
   "source": [
    ":::{.callout-note}\n",
    "### Quote by Hamel Husain\n",
    "<i>\n",
    "Two underrated @fastdotai people I have met recently:\n",
    "\n",
    "- @isaac_flath\n",
    "- @wasimlorgat \n",
    "\n",
    "Both are super thoughtful, talented, proactive, detailed oriented, and use excellent engineering practices.  \n",
    "\n",
    "Highly recommend supporting, funding, hiring etc. these people ✨\n",
    "\n",
    "I don't even know if they are looking for support.  Just spreading the 😍\n",
    "\n",
    "Sometimes you find hidden gems of people in open source that really impress you\n",
    "</i>\n",
    "\n",
    "[Link to Original](https://twitter.com/HamelHusain/status/1544726786507821057)\n",
    ":::"
   ]
  },
  {
   "cell_type": "markdown",
   "id": "240c15be-9d90-46d2-8b19-34f3a87d2817",
   "metadata": {},
   "source": [
    ":::\n",
    "\n",
    "::: {.column width=\"6%\"}\n",
    "<!-- empty column to create gap -->\n",
    ":::\n",
    "\n",
    "::: {.column width=\"42%\"}"
   ]
  },
  {
   "cell_type": "markdown",
   "id": "56d0eb16-230d-4fb1-867d-3c99aefd6225",
   "metadata": {},
   "source": [
    ":::{.callout-note}\n",
    "### Quote by Greg Gonsior<br>VP Analytics & Co-Founder Centriam\n",
    "<i>\n",
    "Isaac is a rock star. Having had the privilege of working with him in a day-to-day capacity for several years, I can say that he is among the best and brightest individuals I have ever worked with. His analytics and data sciences chops are top notch, but his ability to combine technical expertise with a deep understanding of people and process to prescribe - and build - the optimal full stack solution is where he stands heads and shoulders above the rest of the pack. His work for Centriam's clients has moved the needle time and again to drive real world business results!\n",
    "</i>\n",
    ":::"
   ]
  },
  {
   "cell_type": "markdown",
   "id": "6abce204-2868-4fbf-8deb-38cabfa05038",
   "metadata": {},
   "source": [
    ":::{.callout-note}\n",
    "### Quote by Michael Sto. Niño\n",
    "<i>\n",
    "Isaac is a well-rounded technical person and excellent at product development. He is really good with data analysis, using this skill to formulate a winning product development strategy. I look forward to working with Isaac again in the future.\n",
    "</i>\n",
    "\n",
    "[Link to Original](https://www.linkedin.com/in/isaacflath/#recommendations)\n",
    ":::"
   ]
  },
  {
   "cell_type": "markdown",
   "id": "8ec0a7ae-b676-4f18-8ac7-53f563be22e0",
   "metadata": {},
   "source": [
    ":::\n",
    ":::"
   ]
  },
  {
   "cell_type": "markdown",
   "id": "395ba7d8-6fc4-4997-a19d-fce15ed53284",
   "metadata": {},
   "source": [
    "<a rel=\"me\" href=\"https//sigmoid.social/@isaac_flath\"></a>"
   ]
  },
  {
   "cell_type": "code",
   "execution_count": null,
   "id": "5aa9a2a2-be76-4ba5-b627-b3abd15e5b09",
   "metadata": {},
   "outputs": [],
   "source": []
  },
  {
   "cell_type": "markdown",
   "id": "da18548a-1d61-4fc9-b1f7-4e1123b5cd14",
   "metadata": {},
   "source": [
    "# Other Kind Words"
   ]
  },
  {
   "cell_type": "markdown",
   "id": "a191d03c-b445-46e6-a811-65fc530257ea",
   "metadata": {},
   "source": [
    "::: {.columns}\n",
    "\n",
    "::: {.column width=\"42%\"}"
   ]
  },
  {
   "cell_type": "markdown",
   "id": "375ccc22-04b3-40b4-9959-9f1161b7150c",
   "metadata": {},
   "source": [
    ":::{.callout-note}\n",
    "### Quote from private email\n",
    "<i>\n",
    "hey Isaac I loved your post at [Style GAN Components](https://isaac-flath.github.io/fastblog/deep%20learning/2021/03/01/StyleGanComponents.html)\n",
    "\n",
    "it is excellent,\n",
    "\n",
    "when do you think you will release the \"A future post will be actually building a real StyleGAN model to produce high def images to show practical GANs in full size networks to create actual images\"\n",
    "\n",
    "looking forward to it, thank you :)\n",
    "</i>\n",
    ":::"
   ]
  },
  {
   "cell_type": "markdown",
   "id": "b7134e6a-aae4-4dd1-8415-f87b39b6c24b",
   "metadata": {},
   "source": [
    ":::{.callout-note}\n",
    "### Quote from Miguel Raz (fastai forums)\n",
    "\n",
    "> Context:  I am @Ezno on the fastai forums\n",
    "\n",
    "<i>\n",
    "I was also inspired by @Ezno and so I made an Anki deck for the BQN glyphs. It’s now linked on the BQN community page 2.\n",
    "</i>\n",
    "\n",
    "[Link to Original](https://forums.fast.ai/t/anki-deck-generator/97325/24)\n",
    ":::"
   ]
  },
  {
   "cell_type": "markdown",
   "id": "c69c83fd-7a37-4b9e-a603-62cf6a58b2a7",
   "metadata": {},
   "source": [
    ":::{.callout-note}\n",
    "### Quote from Alex Strick van Linschoten (fastai forums)\n",
    "\n",
    "> Context:  I am @Ezno on the fastai forums\n",
    "\n",
    "<i>\n",
    "Finally migrated my fastpages site to Quarto. (Many thanks to @Ezno and @hamelsmu for debugging help!). It’s here: https://mlops.systems \n",
    "</i>\n",
    "\n",
    "\n",
    "[Link to Original](https://forums.fast.ai/t/share-your-quarto-blog/101440/19)\n",
    ":::"
   ]
  },
  {
   "cell_type": "markdown",
   "id": "72d2eab7-d6ef-45bf-b706-5f3be9d9859d",
   "metadata": {},
   "source": [
    ":::{.callout-note}\n",
    "### Quote from weishuhn (fastai forums)\n",
    "\n",
    "> Context:  \"this guy\" is me :)  The link is to one of my blog posts.\n",
    "\n",
    "<i>\n",
    "I am in the process of creating a image classifier to identify mushrooms. I have about 3.5m images that are categorized down to the species level. I’m currently playing around with a few different ideas for improving my results.\n",
    "\n",
    "The first thing I tried, which is similar to what this guy did:\n",
    "\n",
    "[Isaac’s Blog – 21 Jul 20 - Hierarchical Loss Function - Creating a hierarchical loss function to improve classification accuracy](https://isaac-flath.github.io/fastblog/neural%20networks/image%20classification/2020/07/21/HierarchicalLossFunction.html)\n",
    "\n",
    "He uses the taxonomy to creating a specialized loss function under the assumption that assumption that since breed is a subset of species, that if the classifier gets the species right, it shouldn’t be penalized as much...\n",
    "</i>\n",
    "\n",
    "\n",
    "[Link to Original](https://forums.fast.ai/t/help-with-model-training-strategy/96849)\n",
    ":::"
   ]
  },
  {
   "cell_type": "code",
   "execution_count": null,
   "id": "52f7a45c-520d-4553-a7a5-6a9179e79c69",
   "metadata": {},
   "outputs": [],
   "source": []
  },
  {
   "cell_type": "markdown",
   "id": "e565254e-6c72-461d-a46c-21b2cb1739cd",
   "metadata": {},
   "source": [
    ":::\n",
    "\n",
    "::: {.column width=\"6%\"}\n",
    "<!-- empty column to create gap -->\n",
    ":::\n",
    "\n",
    "::: {.column width=\"42%\"}"
   ]
  },
  {
   "cell_type": "markdown",
   "id": "c9029452-284a-43e8-8fd7-ea5389488bf4",
   "metadata": {},
   "source": [
    ":::{.callout-note}\n",
    "### Quote by Dien Hoa Truong (Twitter)\n",
    "<i>\n",
    "\n",
    "Pragmatic tip for Python Concurrency:\n",
    "    \n",
    "- Non-CPU bound ( writing files to disk, downloading ): Threads\n",
    "- CPU bound ( Transforming - Cleaning Dataset ): Processes \n",
    "\n",
    "Thanks @isaac_flath for your [blog post](https://isaac-flath.github.io/fastblog/fastcore/fastai/2021/04/01/PythonConcurrency.html)\n",
    "</i>\n",
    "\n",
    "[Link to Original](https://twitter.com/DienhoaT/status/1578139877421764608)\n",
    ":::"
   ]
  },
  {
   "cell_type": "markdown",
   "id": "10c7faf5-3b44-4476-91d0-f4ca18e8b102",
   "metadata": {},
   "source": [
    ":::{.callout-note}\n",
    "### Quote from Jeremy Howard (fastai forums)\n",
    "\n",
    "> Context:  This was in response to me sharing [this blog post](https://isaac-flath.tech/posts/apl/matrixmultiplication) I wrote.\n",
    "\n",
    "<i>\n",
    "Great stuff. I’m a big fan of inner product in APL. So cool the way they generalised the idea beyond standard math notation\n",
    "</i>\n",
    "\n",
    "\n",
    "[Link to Original](https://forums.fast.ai/t/matrix-multiplication-in-apl/97361/2)\n",
    ":::"
   ]
  },
  {
   "cell_type": "markdown",
   "id": "f257007e-859d-41de-8d04-9413001b5c5b",
   "metadata": {},
   "source": [
    ":::{.callout-note}\n",
    "### Quote by Zach Mueller (Twitter)\n",
    "<i>\n",
    "If you're getting used to Quarto and the new #nbdev format, @isaac_flath's simple QuartoTemplates has been a helpful goldmine of the small nits to do in a Jupyter Notebook with Quarto and I constantly have it open in a tab as I work. Well worth a ⭐️ https://github.com/Isaac-Flath/QuartoTemplates/tree/main\n",
    "</i>\n",
    "\n",
    "[Link to Original](https://twitter.com/TheZachMueller/status/1591254485074337795)\n",
    ":::"
   ]
  },
  {
   "cell_type": "markdown",
   "id": "e6535300-32ca-436a-8c7b-ac5d0d0bd285",
   "metadata": {},
   "source": [
    ":::{.callout-note}\n",
    "### Quote by Vishnu Subramanian (Twitter)<br>Founder of Jarvis Labs\n",
    "<i>\n",
    "📅 Jan - Waiting eagerly for our 1st recharge. Got our 1st $20 🎉🎉.\n",
    "\n",
    "📅 Mar - Upgraded network, added key features, and got listed in @fastdotai, Thanks to @jeremyphoward and fastai community for being our early adopters special thanks to @isaac_flath @jpclap\n",
    "</i>\n",
    "\n",
    "[Link to Original](https://twitter.com/vishnuvig/status/1477478556896686081)\n",
    ":::"
   ]
  },
  {
   "cell_type": "markdown",
   "id": "48975179-28c9-4da3-8bce-3b01fc62b23e",
   "metadata": {},
   "source": [
    ":::{.callout-note}\n",
    "### Quote from Mike Moloch (fastai forums)\n",
    "\n",
    "<i>\n",
    "BTW, your posts are extremely helpful in the sense that I always find them approachable and feel I can try to work through them as you build up to the solution, so, this process of trying to figure things out presented in small chunks is quite illuminating. Thanks for sharing your expertise via your blog.\n",
    "</i>\n",
    "\n",
    "\n",
    "[Link to Original](https://forums.fast.ai/t/apl-statistics-via-bootstrapping/97522/3)\n",
    ":::"
   ]
  },
  {
   "cell_type": "markdown",
   "id": "85cf69bc-5521-4c9e-9904-05d411073897",
   "metadata": {},
   "source": [
    ":::{.callout-note}\n",
    "### Quote from bahman_apl (fastai forums)\n",
    "\n",
    "> Context:  I am @Ezno on the fastai forums\n",
    "\n",
    "<i>\n",
    "@Ezno I saw your notebook. It is awesome as is and thanks for making it. As you mentioned it has room for education proposes. Notebooks support way more language than few years ago. I was even thinking Making a website so people could upload a notebook and get Anki flashcard back. For now I need to go through live coding and data science book(wanted use flashcard for that book) that Jeremy mentioned. When/if I try to improve or make a UI for your notebook I will definitely get it touch with you since you did all the hard part.\n",
    "</i>\n",
    "\n",
    "[Link to Original](https://forums.fast.ai/t/convert-jupyter-notebook-to-anki-cards/98255/5)\n",
    ":::"
   ]
  },
  {
   "cell_type": "markdown",
   "id": "23ee223d-b29d-41b9-8bc2-51f3a41a2a79",
   "metadata": {},
   "source": [
    ":::{.callout-note}\n",
    "### Quote from Mike Moloch (fastai forums)\n",
    "\n",
    "> Context: This was in response to an anki deck I made for APL glyphs\n",
    "\n",
    "<i>\n",
    "Wow this is amazing! coincidentally, I was creating physical flashcards last night just for the glyphs as I feel like it’s something I need to get a handle on, so this will be immensely helpful to me! Thanks so much!\n",
    "</i>\n",
    "\n",
    "[Link to Original](https://forums.fast.ai/t/anki-deck-generator/97325/18)\n",
    ":::"
   ]
  },
  {
   "cell_type": "code",
   "execution_count": null,
   "id": "05607588-1bd7-4ae6-bb54-07a79e05fae7",
   "metadata": {},
   "outputs": [],
   "source": []
  },
  {
   "cell_type": "markdown",
   "id": "78cf141c-b8a8-4758-ab9c-b6118b9ff340",
   "metadata": {},
   "source": [
    ":::\n",
    ":::"
   ]
  },
  {
   "cell_type": "code",
   "execution_count": null,
   "id": "673c35d4-b4a3-4da6-bc8e-4cbb0ea34b14",
   "metadata": {},
   "outputs": [],
   "source": []
  }
 ],
 "metadata": {
  "kernelspec": {
   "display_name": "Python 3 (ipykernel)",
   "language": "python",
   "name": "python3"
  }
 },
 "nbformat": 4,
 "nbformat_minor": 5
}
