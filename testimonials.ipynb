{
 "cells": [
  {
   "cell_type": "raw",
   "id": "fc0516b8-9d49-4752-be82-e381acd9d372",
   "metadata": {},
   "source": [
    "---\n",
    "title: \"Testimonials and Other Kind Words\"\n",
    "page-layout: full\n",
    "title-block-banner: true\n",
    "css: testimonials.css\n",
    "---"
   ]
  },
  {
   "cell_type": "markdown",
   "id": "52daafa8-2107-45e0-83cb-1874eefde80e",
   "metadata": {},
   "source": [
    "# Testimonials 😊"
   ]
  },
  {
   "cell_type": "markdown",
   "id": "3aca071d-15df-444c-9000-dba21d26503b",
   "metadata": {},
   "source": [
    "::: {.columns}\n",
    "\n",
    "::: {.column width=\"42%\"}"
   ]
  },
  {
   "cell_type": "markdown",
   "id": "6b5920c4-83fd-47b4-87d8-307e510c3545",
   "metadata": {},
   "source": [
    ":::{.callout-note}\n",
    "### Quote by John Romans<br>CEO, Biomedix\n",
    "<i>\n",
    "I have had the distinct pleasure of working directly with Isaac Flath as well as observing Isaac’s performance in working with others on team projects as well as individual assignments. What makes Isaac exceptional is his genuine interest and curiosity in understanding the “why” behind each project. This voluntary effort enables Isaac to bring innovative ideas and approaches to each initiative that routinely enable outcomes to be better than originally imagined. Isaac is also a joy to work with which is critically important for those working in remote or hybrid environments.  \n",
    "</i>\n",
    ":::"
   ]
  },
  {
   "cell_type": "markdown",
   "id": "55071a8d-e009-46cc-b7f5-baf16bedbbc1",
   "metadata": {},
   "source": [
    ":::{.callout-note}\n",
    "### Quote by Logan Larson<br>I mentored and managed Logan\n",
    "<i>\n",
    "Isaac was a godsend in helping me find my way and grow as a data scientist while navigating the (frustrating) early-career Data Scientist landscape. He is able to walk me through things I don’t understand and explain them in effective way, while also showing me the path to go above and beyond.  Often these new directions are ones I never would have discovered myself.  This has been true while working under him in a professional setting as well as when discussing ideas and techniques while working alongside him on personal projects. The selfless support he shows his friends may is as impressive as the initiative and drive he shows in his own work.  I am truly excited to see what Isaac achieves in the future!\n",
    "</i>\n",
    ":::"
   ]
  },
  {
   "cell_type": "markdown",
   "id": "837095d9-b405-4ce9-8403-385723578ba7",
   "metadata": {},
   "source": [
    ":::{.callout-note}\n",
    "### Quote by Mike Phenow<br>Mike was CTO @ Linkup\n",
    "<i>\n",
    "Isaac was a pleasure to work with. Beyond being skilled and knowledgeable in data science, he was friendly and genuinely cared about both the work and those he worked with.\n",
    "</i>\n",
    ":::"
   ]
  },
  {
   "cell_type": "markdown",
   "id": "6abce204-2868-4fbf-8deb-38cabfa05038",
   "metadata": {},
   "source": [
    ":::{.callout-note}\n",
    "### Quote by Michael Sto. Niño<br>Developer\n",
    "<i>\n",
    "Isaac is a well-rounded technical person and excellent at product development. He is really good with data analysis, using this skill to formulate a winning product development strategy. I look forward to working with Isaac again in the future.\n",
    "</i>\n",
    "\n",
    "[Link to Original](https://www.linkedin.com/in/isaacflath/#recommendations)\n",
    ":::"
   ]
  },
  {
   "cell_type": "markdown",
   "id": "240c15be-9d90-46d2-8b19-34f3a87d2817",
   "metadata": {},
   "source": [
    ":::\n",
    "\n",
    "::: {.column width=\"6%\"}\n",
    "<!-- empty column to create gap -->\n",
    ":::\n",
    "\n",
    "::: {.column width=\"42%\"}"
   ]
  },
  {
   "cell_type": "markdown",
   "id": "56d0eb16-230d-4fb1-867d-3c99aefd6225",
   "metadata": {},
   "source": [
    ":::{.callout-note}\n",
    "### Quote by Greg Gonsior<br>VP Analytics & Co-Founder, Centriam\n",
    "<i>\n",
    "Isaac is a rock star. Having had the privilege of working with him in a day-to-day capacity for several years, I can say that he is among the best and brightest individuals I have ever worked with. His analytics and data sciences chops are top notch, but his ability to combine technical expertise with a deep understanding of people and process to prescribe - and build - the optimal full stack solution is where he stands heads and shoulders above the rest of the pack. His work for Centriam's clients has moved the needle time and again to drive real world business results!\n",
    "</i>\n",
    ":::"
   ]
  },
  {
   "cell_type": "markdown",
   "id": "2648ee2e-080c-418b-91ba-9e1dc3471718",
   "metadata": {},
   "source": [
    ":::{.callout-note}\n",
    "### Quote by Jake Selvey<br>Director of Analytics & Data Science, Centriam\n",
    "<i>\n",
    "I have been fortunate to benefit from Isaac’s contributions to our team for several years now. His passion for knowledge and practical skills across many aspects of the data/analytics/data sciences realm has made him one of the most well-rounded data practitioners I have worked with. He brings a perspective that continuously feels unique yet is grounded in a practicality that always yields results. There are many aspects of his skill, knowledge, and personality I could speak highly of, but feel I can summarize it best by saying if I had to pick one individual to assist me in tackling an unknown data-related problem/engagement, large or small, it would probably be Isaac.\n",
    "</i>\n",
    ":::"
   ]
  },
  {
   "cell_type": "markdown",
   "id": "fa1f9db9-0ac2-4de9-a826-a36c484d1d40",
   "metadata": {},
   "source": [
    ":::{.callout-note}\n",
    "### Quote by Hamel Husain<br>fastai open source\n",
    "<i>\n",
    "Two underrated @fastdotai people I have met recently:\n",
    "\n",
    "- @isaac_flath\n",
    "- @wasimlorgat \n",
    "\n",
    "Both are super thoughtful, talented, proactive, detailed oriented, and use excellent engineering practices.  \n",
    "\n",
    "Highly recommend supporting, funding, hiring etc. these people ✨\n",
    "\n",
    "I don't even know if they are looking for support.  Just spreading the 😍\n",
    "\n",
    "Sometimes you find hidden gems of people in open source that really impress you\n",
    "</i>\n",
    "\n",
    "[Link to Original](https://twitter.com/HamelHusain/status/1544726786507821057)\n",
    ":::"
   ]
  },
  {
   "cell_type": "markdown",
   "id": "8ec0a7ae-b676-4f18-8ac7-53f563be22e0",
   "metadata": {},
   "source": [
    ":::\n",
    ":::"
   ]
  },
  {
   "cell_type": "markdown",
   "id": "395ba7d8-6fc4-4997-a19d-fce15ed53284",
   "metadata": {},
   "source": [
    "<a rel=\"me\" href=\"https//sigmoid.social/@isaac_flath\"></a>"
   ]
  },
  {
   "cell_type": "markdown",
   "id": "da18548a-1d61-4fc9-b1f7-4e1123b5cd14",
   "metadata": {},
   "source": [
    "# Other Kind Words ❤️ "
   ]
  },
  {
   "cell_type": "markdown",
   "id": "a191d03c-b445-46e6-a811-65fc530257ea",
   "metadata": {},
   "source": [
    "::: {.columns}\n",
    "\n",
    "::: {.column width=\"42%\"}"
   ]
  },
  {
   "cell_type": "markdown",
   "id": "375ccc22-04b3-40b4-9959-9f1161b7150c",
   "metadata": {},
   "source": [
    ":::{.callout-note}\n",
    "### Quote from private email\n",
    "<i>\n",
    "hey Isaac I loved your post at [Style GAN Components](https://isaac-flath.github.io/fastblog/deep%20learning/2021/03/01/StyleGanComponents.html)\n",
    "\n",
    "it is excellent,\n",
    "\n",
    "when do you think you will release the \"A future post will be actually building a real StyleGAN model to produce high def images to show practical GANs in full size networks to create actual images\"\n",
    "\n",
    "looking forward to it, thank you :)\n",
    "</i>\n",
    ":::"
   ]
  },
  {
   "cell_type": "markdown",
   "id": "2ec1e0a0-a759-4917-9463-1be1d8533897",
   "metadata": {},
   "source": [
    ":::{.callout-note}\n",
    "### Quote from Damian \"Siwy\" (fastai discord)\n",
    "\n",
    "<i>\n",
    "@Isaac.Flath you are so helpful, thank you! I will adjust my ideas to your recommendations, code above will help, to check if everything is stripped down correctly\n",
    "</i>\n",
    "\n",
    "[Link to Original](https://discord.com/channels/689892369998676007/748330524556132364/914506289734893668)\n",
    ":::"
   ]
  },
  {
   "cell_type": "markdown",
   "id": "e327d9de-4d22-41d2-9bf8-25affd306ead",
   "metadata": {},
   "source": [
    ":::{.callout-note}\n",
    "### Quote from Mike Moloch (fastai forums)\n",
    "\n",
    "<i>\n",
    "BTW, your posts are extremely helpful in the sense that I always find them approachable and feel I can try to work through them as you build up to the solution, so, this process of trying to figure things out presented in small chunks is quite illuminating. Thanks for sharing your expertise via your blog.\n",
    "</i>\n",
    "\n",
    "\n",
    "[Link to Original](https://forums.fast.ai/t/apl-statistics-via-bootstrapping/97522/3)\n",
    ":::"
   ]
  },
  {
   "cell_type": "markdown",
   "id": "fc1ebdba-ab27-448b-9ae9-0432143dff75",
   "metadata": {},
   "source": [
    ":::{.callout-note}\n",
    "### Quote from Zach Mueller (twitter)\n",
    "\n",
    "> Context: Zach was discussing with someone about using Quarto feeds to create blogs and RSS Feeds\n",
    "\n",
    "<i>\n",
    "*Blessssss*\n",
    "\n",
    "Also want to get mine setup like @isaac_flath's, absolutely love it (not public yet but I can send you a dm with his setup)\n",
    "</i>\n",
    "\n",
    "\n",
    "[Link to Original](https://twitter.com/TheZachMueller/status/1594766570168979460)\n",
    ":::"
   ]
  },
  {
   "cell_type": "markdown",
   "id": "fe2617ac-9a70-4336-aba2-4d350b2436b6",
   "metadata": {},
   "source": [
    ":::{.callout-note}\n",
    "### Quote from tedmasterweb (fastai discord)\n",
    "\n",
    "<i>\n",
    "Honestly, @Isaac.Flath thanks again for all of your help. Now that I've got reproducible results, this is a confusion matrix I can actually use to improve the results!\n",
    "</i>\n",
    "\n",
    "[Link to Original](https://discord.com/channels/689892369998676007/989427841894580305/990960342500802570)\n",
    ":::"
   ]
  },
  {
   "cell_type": "markdown",
   "id": "e1845e33-fad1-48c0-a563-88e545394878",
   "metadata": {},
   "source": [
    ":::{.callout-note}\n",
    "### Quote from Somebody (fastai discord)\n",
    "\n",
    "<i>\n",
    "Thank you so much - that made creating a useful Dataset so much easier for a beginner as I am ^^ For me personally the Combination from @Isaac.Flath and the ImageCleaner works out the best right now\n",
    "</i>\n",
    "\n",
    "[Link to Original](https://discord.com/channels/689892369998676007/748330524556132364/954284886959726612)\n",
    ":::"
   ]
  },
  {
   "cell_type": "markdown",
   "id": "6e82b534-ba7c-40ca-9e68-9df4f7be1614",
   "metadata": {},
   "source": [
    ":::{.callout-note}\n",
    "### Quote from Albert Rapp (Mastadon)\n",
    "\n",
    "> Context: This was in response to this website\n",
    "\n",
    "<i>\n",
    "@isaac_flath Nice looks good! Pretty cool idea to use gradient fills for section starts. That makes them more visible indeed 🤯 \n",
    "Also, and I can't resist saying this, pretty cool comment sections you got there 👍 😆\n",
    "</i>\n",
    "\n",
    "[Link to Original](https://fosstodon.org/@rappa753/109352125606036535)\n",
    ":::"
   ]
  },
  {
   "cell_type": "markdown",
   "id": "b7134e6a-aae4-4dd1-8415-f87b39b6c24b",
   "metadata": {},
   "source": [
    ":::{.callout-note}\n",
    "### Quote from Miguel Raz (fastai forums)\n",
    "\n",
    "> Context:  I am @Ezno on the fastai forums\n",
    "\n",
    "<i>\n",
    "I was also inspired by @Ezno and so I made an Anki deck for the BQN glyphs. It’s now linked on the BQN community page 2.\n",
    "</i>\n",
    "\n",
    "[Link to Original](https://forums.fast.ai/t/anki-deck-generator/97325/24)\n",
    ":::"
   ]
  },
  {
   "cell_type": "markdown",
   "id": "c69c83fd-7a37-4b9e-a603-62cf6a58b2a7",
   "metadata": {},
   "source": [
    ":::{.callout-note}\n",
    "### Quote from Alex Strick van Linschoten (fastai forums)\n",
    "\n",
    "> Context:  I am @Ezno on the fastai forums\n",
    "\n",
    "<i>\n",
    "Finally migrated my fastpages site to Quarto. (Many thanks to @Ezno and @hamelsmu for debugging help!). It’s here: https://mlops.systems \n",
    "</i>\n",
    "\n",
    "\n",
    "[Link to Original](https://forums.fast.ai/t/share-your-quarto-blog/101440/19)\n",
    ":::"
   ]
  },
  {
   "cell_type": "markdown",
   "id": "72d2eab7-d6ef-45bf-b706-5f3be9d9859d",
   "metadata": {},
   "source": [
    ":::{.callout-note}\n",
    "### Quote from weishuhn (fastai forums)\n",
    "\n",
    "> Context:  \"this guy\" is me :)  The link is to one of my blog posts.\n",
    "\n",
    "<i>\n",
    "I am in the process of creating a image classifier to identify mushrooms. I have about 3.5m images that are categorized down to the species level. I’m currently playing around with a few different ideas for improving my results.\n",
    "\n",
    "The first thing I tried, which is similar to what this guy did:\n",
    "\n",
    "[Isaac’s Blog – 21 Jul 20 - Hierarchical Loss Function - Creating a hierarchical loss function to improve classification accuracy](https://isaac-flath.github.io/fastblog/neural%20networks/image%20classification/2020/07/21/HierarchicalLossFunction.html)\n",
    "\n",
    "He uses the taxonomy to creating a specialized loss function under the assumption that assumption that since breed is a subset of species, that if the classifier gets the species right, it shouldn’t be penalized as much...\n",
    "</i>\n",
    "\n",
    "\n",
    "[Link to Original](https://forums.fast.ai/t/help-with-model-training-strategy/96849)\n",
    ":::"
   ]
  },
  {
   "cell_type": "markdown",
   "id": "a0aa0e88-ea80-4311-94f8-3af1c28fc189",
   "metadata": {},
   "source": [
    ":::{.callout-note}\n",
    "### Quote from Alex Strick van Linschoten (Mastadon)\n",
    "\n",
    "> Context: This was in response to sharing [this blog post](https://isaac-flath.tech/posts/other/quartodocumentsbestpractices)\n",
    "\n",
    "<i>\n",
    "@isaac_flath really looking forward to diving into this. I've been stuck at the point of migrating from fastpages for a few weeks now and wondering whether to just abandon the old blog. REALLY looking forward to being on Quarto with all the cool kids 😎\n",
    "</i>\n",
    "\n",
    "[Link to Original](https://sigmoid.social/@alexstrick/109335852234818495)\n",
    ":::"
   ]
  },
  {
   "cell_type": "markdown",
   "id": "c8fa6028-82d1-45c8-9b1e-3540e7235210",
   "metadata": {},
   "source": [
    ":::{.callout-note}\n",
    "### Quote from parsecdadie (fastai discord)\n",
    "\n",
    "<i>\n",
    "That’s such a great explanation! Thanks @Isaac.Flath \n",
    "\n",
    "Also is the quick start outdated on the official website?  Should I avoid that altogether?\n",
    "\n",
    "There could probably be a ‘fastai.utils’ in the future that exclusively has helper functions instead of ‘fastAPI.vision.all’. I am extending my hand quite a bit here but do you know what was the reason for this preference?\n",
    "</i>\n",
    "\n",
    "[Link to Original](https://discord.com/channels/689892369998676007/748330524556132364/948222487651557418)\n",
    ":::"
   ]
  },
  {
   "cell_type": "markdown",
   "id": "e0fbefc9-1df0-4ecc-90f5-84227c04c2bb",
   "metadata": {},
   "source": [
    ":::{.callout-note}\n",
    "### Quote from Damian \"Siwy\" (fastai discord)\n",
    "\n",
    "<i>\n",
    "@Isaac.Flath Hi Isaac! Thank you! It is my internal curiosity, about .py to notebook conversion, but I would like to try something like this!\n",
    "</i>\n",
    "\n",
    "[Link to Original](https://discord.com/channels/689892369998676007/748330524556132364/917181982096633926)\n",
    ":::"
   ]
  },
  {
   "cell_type": "markdown",
   "id": "e565254e-6c72-461d-a46c-21b2cb1739cd",
   "metadata": {},
   "source": [
    ":::\n",
    "\n",
    "::: {.column width=\"6%\"}\n",
    "<!-- empty column to create gap -->\n",
    ":::\n",
    "\n",
    "::: {.column width=\"42%\"}"
   ]
  },
  {
   "cell_type": "markdown",
   "id": "09d1c5b1-7718-4765-af3c-8cd7b1f5343b",
   "metadata": {},
   "source": [
    ":::{.callout-note}\n",
    "### Quote from Jeremy Howard (fastai discord)\n",
    "\n",
    ">Context: This was a callout in the release of NBdev 2\n",
    "\n",
    "<i>\n",
    "i want to highlight what @Hamel and I said in [the post about this community and some very special individuals](https://www.fast.ai/posts/2022-07-28-nbdev2.html#thank-you) ( @Isaac.Flath @Zach Mueller @seem @benjamin )\n",
    "</i>\n",
    "\n",
    "![Image showing nbdev2 release blog post thanking Isaac and others](nbdev2_thanks.png)\n",
    "\n",
    "[Link to Original](https://discord.com/channels/689892369998676007/689892370002870284/1001739729949171742)\n",
    ":::"
   ]
  },
  {
   "cell_type": "markdown",
   "id": "f257007e-859d-41de-8d04-9413001b5c5b",
   "metadata": {},
   "source": [
    ":::{.callout-note}\n",
    "### Quote by Zach Mueller (Twitter)\n",
    "<i>\n",
    "If you're getting used to Quarto and the new #nbdev format, @isaac_flath's simple QuartoTemplates has been a helpful goldmine of the small nits to do in a Jupyter Notebook with Quarto and I constantly have it open in a tab as I work. Well worth a ⭐️ https://github.com/Isaac-Flath/QuartoTemplates/tree/main\n",
    "</i>\n",
    "\n",
    "[Link to Original](https://twitter.com/TheZachMueller/status/1591254485074337795)\n",
    ":::"
   ]
  },
  {
   "cell_type": "markdown",
   "id": "c9029452-284a-43e8-8fd7-ea5389488bf4",
   "metadata": {},
   "source": [
    ":::{.callout-note}\n",
    "### Quote by Dien Hoa Truong (Twitter)\n",
    "<i>\n",
    "\n",
    "Pragmatic tip for Python Concurrency:\n",
    "    \n",
    "- Non-CPU bound ( writing files to disk, downloading ): Threads\n",
    "- CPU bound ( Transforming - Cleaning Dataset ): Processes \n",
    "\n",
    "Thanks @isaac_flath for your [blog post](https://isaac-flath.github.io/fastblog/fastcore/fastai/2021/04/01/PythonConcurrency.html)\n",
    "</i>\n",
    "\n",
    "[Link to Original](https://twitter.com/DienhoaT/status/1578139877421764608)\n",
    ":::"
   ]
  },
  {
   "cell_type": "markdown",
   "id": "32914779-7790-4540-a66f-5c691a038fde",
   "metadata": {},
   "source": [
    ":::{.callout-note}\n",
    "### Quote from Niyazi Kemer (fastai discord)\n",
    "\n",
    "<i>\n",
    "Thank you for caring Isaac, Kaggle was on mind but I'll consider about a personal project too. Kaggle looks tempting because it pushes you to catch the deadline and  getting help from the community etc.  I already have blog with only two posts and my fastbook course notes  (a fastpages blog) but I think I need to post regularly. In addition I also read @radek 's book Meta Learning thanks to @jeremyhoward 's lesson 0 (I believe) for the course. It is also inspiring.\n",
    "</i>\n",
    "\n",
    "[Link to Original](https://discord.com/channels/689892369998676007/737149430498721842/961297522691825694)\n",
    ":::"
   ]
  },
  {
   "cell_type": "markdown",
   "id": "f6881a1b-33a5-4ddf-8c09-a36e35ca3317",
   "metadata": {},
   "source": [
    ":::{.callout-note}\n",
    "### Quote from Shubham Shinde (Twitter)\n",
    "\n",
    "<i>\n",
    "So I've put up a website and blog using the fantastic and beautiful @quarto_pub, thanks also to @isaac_flath, @SamanthaCsik for your repos that I followed, it was a breeze!\n",
    "\n",
    "Here's the link: http://shindeshu.github.io\n",
    "</i>\n",
    "\n",
    "\n",
    "[Link to Original](https://twitter.com/ShindeShubham85/status/1598223232653725696)\n",
    ":::"
   ]
  },
  {
   "cell_type": "markdown",
   "id": "10c7faf5-3b44-4476-91d0-f4ca18e8b102",
   "metadata": {},
   "source": [
    ":::{.callout-note}\n",
    "### Quote from Jeremy Howard (fastai forums)\n",
    "\n",
    "> Context:  This was in response to me sharing [this blog post](https://isaac-flath.tech/posts/apl/matrixmultiplication) I wrote.\n",
    "\n",
    "<i>\n",
    "Great stuff. I’m a big fan of inner product in APL. So cool the way they generalised the idea beyond standard math notation\n",
    "</i>\n",
    "\n",
    "\n",
    "[Link to Original](https://forums.fast.ai/t/matrix-multiplication-in-apl/97361/2)\n",
    ":::"
   ]
  },
  {
   "cell_type": "markdown",
   "id": "85cf69bc-5521-4c9e-9904-05d411073897",
   "metadata": {},
   "source": [
    ":::{.callout-note}\n",
    "### Quote from bahman_apl (fastai forums)\n",
    "\n",
    "> Context:  I am @Ezno on the fastai forums\n",
    "\n",
    "<i>\n",
    "@Ezno I saw your notebook. It is awesome as is and thanks for making it. As you mentioned it has room for education proposes. Notebooks support way more language than few years ago. I was even thinking Making a website so people could upload a notebook and get Anki flashcard back. For now I need to go through live coding and data science book(wanted use flashcard for that book) that Jeremy mentioned. When/if I try to improve or make a UI for your notebook I will definitely get it touch with you since you did all the hard part.\n",
    "</i>\n",
    "\n",
    "[Link to Original](https://forums.fast.ai/t/convert-jupyter-notebook-to-anki-cards/98255/5)\n",
    ":::"
   ]
  },
  {
   "cell_type": "markdown",
   "id": "e6535300-32ca-436a-8c7b-ac5d0d0bd285",
   "metadata": {},
   "source": [
    ":::{.callout-note}\n",
    "### Quote by Vishnu Subramanian (Twitter)<br>Founder of Jarvis Labs\n",
    "<i>\n",
    "📅 Jan - Waiting eagerly for our 1st recharge. Got our 1st $20 🎉🎉.\n",
    "\n",
    "📅 Mar - Upgraded network, added key features, and got listed in @fastdotai, Thanks to @jeremyphoward and fastai community for being our early adopters special thanks to @isaac_flath @jpclap\n",
    "</i>\n",
    "\n",
    "[Link to Original](https://twitter.com/vishnuvig/status/1477478556896686081)\n",
    ":::"
   ]
  },
  {
   "cell_type": "markdown",
   "id": "23ee223d-b29d-41b9-8bc2-51f3a41a2a79",
   "metadata": {},
   "source": [
    ":::{.callout-note}\n",
    "### Quote from Mike Moloch (fastai forums)\n",
    "\n",
    "> Context: This was in response to an anki deck I made for APL glyphs\n",
    "\n",
    "<i>\n",
    "Wow this is amazing! coincidentally, I was creating physical flashcards last night just for the glyphs as I feel like it’s something I need to get a handle on, so this will be immensely helpful to me! Thanks so much!\n",
    "</i>\n",
    "\n",
    "[Link to Original](https://forums.fast.ai/t/anki-deck-generator/97325/18)\n",
    ":::"
   ]
  },
  {
   "cell_type": "markdown",
   "id": "fd59f268-6c7e-46c4-8d28-16f0afedf4d6",
   "metadata": {},
   "source": [
    ":::{.callout-note}\n",
    "### Quote from Tamer (fastai discord)\n",
    "\n",
    "<i>\n",
    "Thanks a lot for your answer, I appreciate it. Yes, actually I am not supposed to use gender and ethnicity to determine employability. But it never occured to me that the other columns could somehow be a predictor of gender or ethnicity as well. This I will definitely consider.\n",
    "</i>\n",
    "\n",
    "[Link to Original](https://discord.com/channels/689892369998676007/748330524556132364/967685151926669322)\n",
    ":::"
   ]
  },
  {
   "cell_type": "markdown",
   "id": "0426777d-84c6-4f99-a595-e3b218e7e492",
   "metadata": {},
   "source": [
    ":::{.callout-note}\n",
    "### Quote from dhoa (fastai discord)\n",
    "\n",
    "<i>\n",
    "Thanks a lot for your very detailed explanation @Isaac.Flath . I asked because I don't know how to organize a little bit more for my blogs ( by topics and when I click on it will show every post on this topic). I just found out about this blog https://ohmeow.com/  and it's great. Even if I can not do what I intended, I can always write a list of related post, like what he did here: https://ohmeow.com/posts/2022/03/31/ajtfb-chapter-8.html\n",
    "</i>\n",
    "\n",
    "[Link to Original](https://discord.com/channels/689892369998676007/737149430498721842/960150063617826856)\n",
    ":::"
   ]
  },
  {
   "cell_type": "markdown",
   "id": "78cf141c-b8a8-4758-ab9c-b6118b9ff340",
   "metadata": {},
   "source": [
    ":::\n",
    ":::"
   ]
  }
 ],
 "metadata": {
  "kernelspec": {
   "display_name": "Python 3 (ipykernel)",
   "language": "python",
   "name": "python3"
  }
 },
 "nbformat": 4,
 "nbformat_minor": 5
}
