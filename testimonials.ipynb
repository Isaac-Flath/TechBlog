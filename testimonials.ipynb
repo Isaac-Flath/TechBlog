{
 "cells": [
  {
   "cell_type": "raw",
   "id": "fc0516b8-9d49-4752-be82-e381acd9d372",
   "metadata": {},
   "source": [
    "---\n",
    "title: \"Testimonials and Kind Words\"\n",
    "editor: visual\n",
    "jupyter: python3\n",
    "page-layout: full\n",
    "title-block-banner: true\n",
    "---"
   ]
  },
  {
   "cell_type": "markdown",
   "id": "3aca071d-15df-444c-9000-dba21d26503b",
   "metadata": {},
   "source": [
    "::: {.columns}\n",
    "\n",
    "::: {.column width=\"42%\"}"
   ]
  },
  {
   "cell_type": "markdown",
   "id": "5934c51f-18eb-422a-99de-5d685e230684",
   "metadata": {},
   "source": [
    ":::{.callout-note}\n",
    "### Quote by Hamel Husain\n",
    "<i>\n",
    "Two underrated @fastdotai people I have met recently:\n",
    "\n",
    "- @isaac_flath\n",
    "- @wasimlorgat \n",
    "\n",
    "Both are super thoughtful, talented, proactive, detailed oriented, and use excellent engineering practices.  \n",
    "\n",
    "Highly recommend supporting, funding, hiring etc. these people ✨\n",
    "\n",
    "I don't even know if they are looking for support.  Just spreading the 😍\n",
    "\n",
    "Sometimes you find hidden gems of people in open source that really impress you\n",
    "</i>\n",
    "\n",
    "[Link to Original](https://twitter.com/HamelHusain/status/1544726786507821057)\n",
    ":::"
   ]
  },
  {
   "cell_type": "markdown",
   "id": "75ec492f-f506-47ea-a391-35d90275f03a",
   "metadata": {},
   "source": [
    ":::{.callout-note}\n",
    "### Quote by Zach Mueller\n",
    "<i>\n",
    "If you're getting used to Quarto and the new #nbdev format, @isaac_flath's simple QuartoTemplates has been a helpful goldmine of the small nits to do in a Jupyter Notebook with Quarto and I constantly have it open in a tab as I work. Well worth a ⭐️ https://github.com/Isaac-Flath/QuartoTemplates/tree/main\n",
    "</i>\n",
    "\n",
    "[Link to Original](https://twitter.com/TheZachMueller/status/1591254485074337795)\n",
    ":::"
   ]
  },
  {
   "cell_type": "markdown",
   "id": "6dcf9c91-dc6b-4226-8dbb-e20cba34e3cb",
   "metadata": {},
   "source": [
    ":::{.callout-note}\n",
    "### Quote by Vishnu - Jarvislabs.ai\n",
    "<i>\n",
    "📅 Jan - Waiting eagerly for our 1st recharge. Got our 1st $20 🎉🎉.\n",
    "\n",
    "📅 Mar - Upgraded network, added key features, and got listed in @fastdotai, Thanks to @jeremyphoward and fastai community for being our early adopters special thanks to @isaac_flath @jpclap\n",
    "</i>\n",
    "\n",
    "[Link to Original](https://twitter.com/vishnuvig/status/1477478556896686081)\n",
    ":::"
   ]
  },
  {
   "cell_type": "markdown",
   "id": "264143a4-0890-4bfd-b3fd-16dad38c9df9",
   "metadata": {},
   "source": [
    ":::\n",
    "\n",
    "::: {.column width=\"6%\"}\n",
    "<!-- empty column to create gap -->\n",
    ":::\n",
    "\n",
    "::: {.column width=\"42%\"}"
   ]
  },
  {
   "cell_type": "markdown",
   "id": "56d0eb16-230d-4fb1-867d-3c99aefd6225",
   "metadata": {},
   "source": [
    ":::{.callout-note}\n",
    "### Quote by Greg Gonsior\n",
    "<i>\n",
    "Isaac is a rock star. Having had the privilege of working with him in a day-to-day capacity for several years, I can say that he is among the best and brightest individuals I have ever worked with. His analytics and data sciences chops are top notch, but his ability to combine technical expertise with a deep understanding of people and process to prescribe - and build - the optimal full stack solution is where he stands heads and shoulders above the rest of the pack. His work for Centriam's clients has moved the needle time and again to drive real world business results!\n",
    "</i>\n",
    ":::"
   ]
  },
  {
   "cell_type": "markdown",
   "id": "6abce204-2868-4fbf-8deb-38cabfa05038",
   "metadata": {},
   "source": [
    ":::{.callout-note}\n",
    "### Quote by Michael Sto. Niño\n",
    "<i>\n",
    "Isaac is a well-rounded technical person and excellent at product development. He is really good with data analysis, using this skill to formulate a winning product development strategy. I look forward to working with Isaac again in the future.\n",
    "</i>\n",
    "\n",
    "[Link to Original](https://www.linkedin.com/in/isaacflath/#recommendations)\n",
    ":::"
   ]
  },
  {
   "cell_type": "markdown",
   "id": "4f1d7065-104e-492f-a438-3bb7008d1f5c",
   "metadata": {},
   "source": [
    ":::{.callout-note}\n",
    "### Quote by Dien Hoa Truong\n",
    "<i>\n",
    "\n",
    "Pragmatic tip for Python Concurrency:\n",
    "    \n",
    "- Non-CPU bound ( writing files to disk, downloading ): Threads\n",
    "- CPU bound ( Transforming - Cleaning Dataset ): Processes \n",
    "\n",
    "Thanks @isaac_flath for your [blog post](https://isaac-flath.github.io/fastblog/fastcore/fastai/2021/04/01/PythonConcurrency.html)\n",
    "</i>\n",
    "\n",
    "[Link to Original](https://twitter.com/DienhoaT/status/1578139877421764608)\n",
    ":::"
   ]
  },
  {
   "cell_type": "markdown",
   "id": "5ee8c40a-c459-463d-9465-9a9f8d6d5cdc",
   "metadata": {},
   "source": [
    ":::{.callout-note}\n",
    "### Quote from private email\n",
    "<i>\n",
    "hey Isaac I loved your post at [Style GAN Components](https://isaac-flath.github.io/fastblog/deep%20learning/2021/03/01/StyleGanComponents.html)\n",
    "\n",
    "it is excellent,\n",
    "\n",
    "when do you think you will release the \"A future post will be actually building a real StyleGAN model to produce high def images to show practical GANs in full size networks to create actual images\"\n",
    "\n",
    "looking forward to it, thank you :)\n",
    "</i>\n",
    ":::"
   ]
  },
  {
   "cell_type": "markdown",
   "id": "2bd69452-2dbb-489b-abcf-b48d4f24124f",
   "metadata": {},
   "source": [
    ":::\n",
    ":::"
   ]
  },
  {
   "cell_type": "markdown",
   "id": "395ba7d8-6fc4-4997-a19d-fce15ed53284",
   "metadata": {},
   "source": [
    "<a rel=\"me\" href=\"https//sigmoid.social/@isaac_flath\"></a>"
   ]
  },
  {
   "cell_type": "markdown",
   "id": "cba2168c-49fd-4c09-b0ec-c31399542043",
   "metadata": {},
   "source": []
  }
 ],
 "metadata": {
  "kernelspec": {
   "display_name": "Python 3 (ipykernel)",
   "language": "python",
   "name": "python3"
  }
 },
 "nbformat": 4,
 "nbformat_minor": 5
}
